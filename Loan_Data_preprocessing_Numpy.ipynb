{
 "cells": [
  {
   "cell_type": "markdown",
   "id": "7c298b16",
   "metadata": {},
   "source": [
    "importing the packages"
   ]
  },
  {
   "cell_type": "code",
   "execution_count": 203,
   "id": "3961dea3",
   "metadata": {},
   "outputs": [],
   "source": [
    "import numpy as np\n",
    "import os\n",
    "os.chdir('C:/Users/Muskan/Downloads/Loan Dataset')"
   ]
  },
  {
   "cell_type": "code",
   "execution_count": 204,
   "id": "7087516b",
   "metadata": {},
   "outputs": [],
   "source": [
    "#to remove scientif notation from numbers, fit characters in single line to 100 and decimal points to 2\n",
    "np.set_printoptions(suppress=True,linewidth=100,precision=2)"
   ]
  },
  {
   "cell_type": "markdown",
   "id": "59c55ba0",
   "metadata": {},
   "source": [
    "importing the data"
   ]
  },
  {
   "cell_type": "code",
   "execution_count": 205,
   "id": "0809f670",
   "metadata": {},
   "outputs": [
    {
     "data": {
      "text/plain": [
       "array([[48010226.  ,         nan,    35000.  , ...,         nan,         nan,     9452.96],\n",
       "       [57693261.  ,         nan,    30000.  , ...,         nan,         nan,     4679.7 ],\n",
       "       [59432726.  ,         nan,    15000.  , ...,         nan,         nan,     1969.83],\n",
       "       ...,\n",
       "       [50415990.  ,         nan,    10000.  , ...,         nan,         nan,     2185.64],\n",
       "       [46154151.  ,         nan,         nan, ...,         nan,         nan,     3199.4 ],\n",
       "       [66055249.  ,         nan,    10000.  , ...,         nan,         nan,      301.9 ]])"
      ]
     },
     "execution_count": 205,
     "metadata": {},
     "output_type": "execute_result"
    }
   ],
   "source": [
    "#Load data from a text file, with missing values handled as specified\n",
    "raw_data_np=np.genfromtxt(\"loan-data.csv\",delimiter=';',skip_header=1,autostrip=True)\n",
    "raw_data_np"
   ]
  },
  {
   "cell_type": "markdown",
   "id": "35816139",
   "metadata": {},
   "source": [
    "Checking for incomplete data"
   ]
  },
  {
   "cell_type": "code",
   "execution_count": 206,
   "id": "c2d93a48",
   "metadata": {},
   "outputs": [
    {
     "data": {
      "text/plain": [
       "88005"
      ]
     },
     "execution_count": 206,
     "metadata": {},
     "output_type": "execute_result"
    }
   ],
   "source": [
    "#missing values\n",
    "np.isnan(raw_data_np).sum()"
   ]
  },
  {
   "cell_type": "code",
   "execution_count": 207,
   "id": "e2479d50",
   "metadata": {},
   "outputs": [
    {
     "name": "stderr",
     "output_type": "stream",
     "text": [
      "<ipython-input-207-2bca7034ff4b>:5: RuntimeWarning: Mean of empty slice\n",
      "  temp_mean=np.nanmean(raw_data_np,axis=0)\n"
     ]
    }
   ],
   "source": [
    "#fillinf data in place of missing values \n",
    "temp_fill=np.nanmax(raw_data_np)+1\n",
    "#Return the maximum of an array or maximum along an axis, ignoring any NaNs. \n",
    "#fill missing values with a value greater than every other in the dataset\n",
    "temp_mean=np.nanmean(raw_data_np,axis=0)\n",
    "#contains the mean values on every column "
   ]
  },
  {
   "cell_type": "code",
   "execution_count": 208,
   "id": "dd7acd5b",
   "metadata": {},
   "outputs": [
    {
     "data": {
      "text/plain": [
       "array([54015809.19,         nan,    15273.46,         nan,    15311.04,         nan,       16.62,\n",
       "            440.92,         nan,         nan,         nan,         nan,         nan,     3143.85])"
      ]
     },
     "execution_count": 208,
     "metadata": {},
     "output_type": "execute_result"
    }
   ],
   "source": [
    "#np.nan will show values that are not number so the column means with nans could be strings\n",
    "temp_mean"
   ]
  },
  {
   "cell_type": "code",
   "execution_count": 209,
   "id": "9abaeb38",
   "metadata": {},
   "outputs": [
    {
     "name": "stderr",
     "output_type": "stream",
     "text": [
      "<ipython-input-209-219b166dc439>:2: RuntimeWarning: All-NaN slice encountered\n",
      "  temp_stats=np.array([np.nanmin(raw_data_np,axis=0),\n",
      "<ipython-input-209-219b166dc439>:4: RuntimeWarning: All-NaN slice encountered\n",
      "  np.nanmax(raw_data_np,axis=0)])\n"
     ]
    }
   ],
   "source": [
    "#it is better to have two seperate arrays of numeric and non-numeric data\n",
    "temp_stats=np.array([np.nanmin(raw_data_np,axis=0),\n",
    "                    temp_mean,\n",
    "                    np.nanmax(raw_data_np,axis=0)])\n",
    "#the resultant array will have min value of each column, mean and max stacked over each other"
   ]
  },
  {
   "cell_type": "code",
   "execution_count": 210,
   "id": "c2ba8777",
   "metadata": {},
   "outputs": [
    {
     "data": {
      "text/plain": [
       "array([[  373332.  ,         nan,     1000.  ,         nan,     1000.  ,         nan,        6.  ,\n",
       "              31.42,         nan,         nan,         nan,         nan,         nan,        0.  ],\n",
       "       [54015809.19,         nan,    15273.46,         nan,    15311.04,         nan,       16.62,\n",
       "             440.92,         nan,         nan,         nan,         nan,         nan,     3143.85],\n",
       "       [68616519.  ,         nan,    35000.  ,         nan,    35000.  ,         nan,       28.99,\n",
       "            1372.97,         nan,         nan,         nan,         nan,         nan,    41913.62]])"
      ]
     },
     "execution_count": 210,
     "metadata": {},
     "output_type": "execute_result"
    }
   ],
   "source": [
    "temp_stats"
   ]
  },
  {
   "cell_type": "markdown",
   "id": "d35623fc",
   "metadata": {},
   "source": [
    "Splitting Data in numeric and string"
   ]
  },
  {
   "cell_type": "code",
   "execution_count": 211,
   "id": "387bb073",
   "metadata": {},
   "outputs": [
    {
     "data": {
      "text/plain": [
       "array([ 1,  3,  5,  8,  9, 10, 11, 12], dtype=int64)"
      ]
     },
     "execution_count": 211,
     "metadata": {},
     "output_type": "execute_result"
    }
   ],
   "source": [
    "#array of column numbers which have strings\n",
    "columns_strings=np.argwhere(np.isnan(temp_mean)).squeeze()\n",
    "#np.argwhere=Find the indices of array elements that are non-zero, grouped by element.\n",
    "columns_strings"
   ]
  },
  {
   "cell_type": "code",
   "execution_count": 212,
   "id": "3d0716c8",
   "metadata": {},
   "outputs": [
    {
     "data": {
      "text/plain": [
       "array([ 0,  2,  4,  6,  7, 13], dtype=int64)"
      ]
     },
     "execution_count": 212,
     "metadata": {},
     "output_type": "execute_result"
    }
   ],
   "source": [
    "#array of column numbers which have numerical data\n",
    "columns_numeric=np.argwhere(np.isnan(temp_mean)==False).squeeze()\n",
    "columns_numeric"
   ]
  },
  {
   "cell_type": "markdown",
   "id": "686dc452",
   "metadata": {},
   "source": [
    "Re-importing the dataset"
   ]
  },
  {
   "cell_type": "code",
   "execution_count": 213,
   "id": "cfb8f9a9",
   "metadata": {},
   "outputs": [
    {
     "name": "stderr",
     "output_type": "stream",
     "text": [
      "<ipython-input-213-68f06f396d2c>:7: DeprecationWarning: `np.str` is a deprecated alias for the builtin `str`. To silence this warning, use `str` by itself. Doing this will not modify any behavior and is safe. If you specifically wanted the numpy scalar type, use `np.str_` here.\n",
      "Deprecated in NumPy 1.20; for more details and guidance: https://numpy.org/devdocs/release/1.20.0-notes.html#deprecations\n",
      "  dtype=np.str)\n"
     ]
    },
    {
     "data": {
      "text/plain": [
       "array([['May-15', 'Current', '36 months', ..., 'Verified',\n",
       "        'https://www.lendingclub.com/browse/loanDetail.action?loan_id=48010226', 'CA'],\n",
       "       ['', 'Current', '36 months', ..., 'Source Verified',\n",
       "        'https://www.lendingclub.com/browse/loanDetail.action?loan_id=57693261', 'NY'],\n",
       "       ['Sep-15', 'Current', '36 months', ..., 'Verified',\n",
       "        'https://www.lendingclub.com/browse/loanDetail.action?loan_id=59432726', 'PA'],\n",
       "       ...,\n",
       "       ['Jun-15', 'Current', '36 months', ..., 'Source Verified',\n",
       "        'https://www.lendingclub.com/browse/loanDetail.action?loan_id=50415990', 'CA'],\n",
       "       ['Apr-15', 'Current', '36 months', ..., 'Source Verified',\n",
       "        'https://www.lendingclub.com/browse/loanDetail.action?loan_id=46154151', 'OH'],\n",
       "       ['Dec-15', 'Current', '36 months', ..., '',\n",
       "        'https://www.lendingclub.com/browse/loanDetail.action?loan_id=66055249', 'IL']],\n",
       "      dtype='<U69')"
      ]
     },
     "execution_count": 213,
     "metadata": {},
     "output_type": "execute_result"
    }
   ],
   "source": [
    "#loading the string dataset\n",
    "loan_data_strings=np.genfromtxt(\"loan-data.csv\",\n",
    "                                delimiter=';',\n",
    "                                skip_header=1,\n",
    "                                autostrip=True,\n",
    "                                usecols=columns_strings,\n",
    "                                dtype=np.str)\n",
    "#autostrip= Whether to automatically strip white spaces from the variables\n",
    "#usecols=Which columns to read, with 0 being the first. \n",
    "loan_data_strings"
   ]
  },
  {
   "cell_type": "code",
   "execution_count": 214,
   "id": "9f0074ec",
   "metadata": {},
   "outputs": [],
   "source": [
    "#loading the numeric dataset\n",
    "loan_data_numeric=np.genfromtxt(\"loan-data.csv\",\n",
    "                                delimiter=';',\n",
    "                                skip_header=1,\n",
    "                                autostrip=True,\n",
    "                                usecols=columns_numeric,\n",
    "                                filling_values=temp_fill)\n"
   ]
  },
  {
   "cell_type": "markdown",
   "id": "93a18479",
   "metadata": {},
   "source": [
    "Putting Headers (Names of columns) into string and numeric data"
   ]
  },
  {
   "cell_type": "code",
   "execution_count": 215,
   "id": "66ca39b4",
   "metadata": {},
   "outputs": [
    {
     "name": "stderr",
     "output_type": "stream",
     "text": [
      "<ipython-input-215-3cb8eb8f1855>:6: DeprecationWarning: `np.str` is a deprecated alias for the builtin `str`. To silence this warning, use `str` by itself. Doing this will not modify any behavior and is safe. If you specifically wanted the numpy scalar type, use `np.str_` here.\n",
      "Deprecated in NumPy 1.20; for more details and guidance: https://numpy.org/devdocs/release/1.20.0-notes.html#deprecations\n",
      "  dtype=np.str)\n"
     ]
    },
    {
     "data": {
      "text/plain": [
       "array(['id', 'issue_d', 'loan_amnt', 'loan_status', 'funded_amnt', 'term', 'int_rate',\n",
       "       'installment', 'grade', 'sub_grade', 'verification_status', 'url', 'addr_state',\n",
       "       'total_pymnt'], dtype='<U19')"
      ]
     },
     "execution_count": 215,
     "metadata": {},
     "output_type": "execute_result"
    }
   ],
   "source": [
    "#string columns header\n",
    "header_full=np.genfromtxt(\"loan-data.csv\",\n",
    "                                delimiter=';',\n",
    "                                autostrip=True,\n",
    "                                skip_footer=raw_data_np.shape[0],\n",
    "                                dtype=np.str)\n",
    "header_full\n",
    "#skip_footer here removes all the rows after the header to give only the column names from\n",
    "#the dataset\n",
    "#dtype is str as names of columns are string values"
   ]
  },
  {
   "cell_type": "code",
   "execution_count": 216,
   "id": "a2df5281",
   "metadata": {},
   "outputs": [],
   "source": [
    "#assigning column names to respective string and numeric indices created earlier\n",
    "header_strings,header_numeric= header_full[columns_strings],header_full[columns_numeric]#"
   ]
  },
  {
   "cell_type": "code",
   "execution_count": 217,
   "id": "d5b1443e",
   "metadata": {},
   "outputs": [
    {
     "data": {
      "text/plain": [
       "array(['issue_d', 'loan_status', 'term', 'grade', 'sub_grade', 'verification_status', 'url',\n",
       "       'addr_state'], dtype='<U19')"
      ]
     },
     "execution_count": 217,
     "metadata": {},
     "output_type": "execute_result"
    }
   ],
   "source": [
    "header_strings"
   ]
  },
  {
   "cell_type": "code",
   "execution_count": 218,
   "id": "6e4a228c",
   "metadata": {},
   "outputs": [
    {
     "data": {
      "text/plain": [
       "array(['id', 'loan_amnt', 'funded_amnt', 'int_rate', 'installment', 'total_pymnt'], dtype='<U19')"
      ]
     },
     "execution_count": 218,
     "metadata": {},
     "output_type": "execute_result"
    }
   ],
   "source": [
    "header_numeric"
   ]
  },
  {
   "cell_type": "markdown",
   "id": "b4203ad3",
   "metadata": {},
   "source": [
    "Creating Checkpoints"
   ]
  },
  {
   "cell_type": "code",
   "execution_count": 219,
   "id": "511b14df",
   "metadata": {},
   "outputs": [],
   "source": [
    "'''\n",
    "checkpoints are a copy of our dataset or parts of it, so we don't lose progress if \n",
    "we accidentally over write variable names \n",
    "important when we need to clean or pre-process many parts of data\n",
    "'''\n",
    "def checkpoint(file_name,checkpoint_header,checkpoint_data):\n",
    "    np.savez(file_name,header=checkpoint_header,data=checkpoint_data)\n",
    "    checkpoint_variable=np.load(file_name+\".npz\")\n",
    "    return(checkpoint_variable)\n",
    "#np.savez=save several arrays into a single file in uncompressed .npz format."
   ]
  },
  {
   "cell_type": "code",
   "execution_count": 220,
   "id": "3fec465b",
   "metadata": {},
   "outputs": [],
   "source": [
    "checkpoint_test=checkpoint(\"checkpoint-test\",header_strings,loan_data_strings)"
   ]
  },
  {
   "cell_type": "code",
   "execution_count": 221,
   "id": "ec147471",
   "metadata": {},
   "outputs": [
    {
     "data": {
      "text/plain": [
       "array(['issue_d', 'loan_status', 'term', 'grade', 'sub_grade', 'verification_status', 'url',\n",
       "       'addr_state'], dtype='<U19')"
      ]
     },
     "execution_count": 221,
     "metadata": {},
     "output_type": "execute_result"
    }
   ],
   "source": [
    "#checking the function for correctly storing string dataset we created\n",
    "checkpoint_test['header']"
   ]
  },
  {
   "cell_type": "code",
   "execution_count": 222,
   "id": "2327496d",
   "metadata": {
    "scrolled": true
   },
   "outputs": [
    {
     "data": {
      "text/plain": [
       "array([['May-15', 'Current', '36 months', ..., 'Verified',\n",
       "        'https://www.lendingclub.com/browse/loanDetail.action?loan_id=48010226', 'CA'],\n",
       "       ['', 'Current', '36 months', ..., 'Source Verified',\n",
       "        'https://www.lendingclub.com/browse/loanDetail.action?loan_id=57693261', 'NY'],\n",
       "       ['Sep-15', 'Current', '36 months', ..., 'Verified',\n",
       "        'https://www.lendingclub.com/browse/loanDetail.action?loan_id=59432726', 'PA'],\n",
       "       ...,\n",
       "       ['Jun-15', 'Current', '36 months', ..., 'Source Verified',\n",
       "        'https://www.lendingclub.com/browse/loanDetail.action?loan_id=50415990', 'CA'],\n",
       "       ['Apr-15', 'Current', '36 months', ..., 'Source Verified',\n",
       "        'https://www.lendingclub.com/browse/loanDetail.action?loan_id=46154151', 'OH'],\n",
       "       ['Dec-15', 'Current', '36 months', ..., '',\n",
       "        'https://www.lendingclub.com/browse/loanDetail.action?loan_id=66055249', 'IL']],\n",
       "      dtype='<U69')"
      ]
     },
     "execution_count": 222,
     "metadata": {},
     "output_type": "execute_result"
    }
   ],
   "source": [
    "checkpoint_test['data']"
   ]
  },
  {
   "cell_type": "code",
   "execution_count": 223,
   "id": "a68c606c",
   "metadata": {},
   "outputs": [
    {
     "data": {
      "text/plain": [
       "True"
      ]
     },
     "execution_count": 223,
     "metadata": {},
     "output_type": "execute_result"
    }
   ],
   "source": [
    "#once again confirming if the checkpoint stores the correct data\n",
    "np.array_equal(checkpoint_test['data'],loan_data_strings)"
   ]
  },
  {
   "cell_type": "markdown",
   "id": "cb3fb577",
   "metadata": {},
   "source": [
    "## Manipulating String Columns"
   ]
  },
  {
   "cell_type": "code",
   "execution_count": 224,
   "id": "cb65510c",
   "metadata": {},
   "outputs": [
    {
     "data": {
      "text/plain": [
       "array(['issue_d', 'loan_status', 'term', 'grade', 'sub_grade', 'verification_status', 'url',\n",
       "       'addr_state'], dtype='<U19')"
      ]
     },
     "execution_count": 224,
     "metadata": {},
     "output_type": "execute_result"
    }
   ],
   "source": [
    "header_strings"
   ]
  },
  {
   "cell_type": "markdown",
   "id": "a2d23c06",
   "metadata": {},
   "source": [
    "#### Issue Date column"
   ]
  },
  {
   "cell_type": "code",
   "execution_count": 225,
   "id": "0a1e7c40",
   "metadata": {},
   "outputs": [],
   "source": [
    "#making column names more descriptive for example first column is the loan issue date\n",
    "header_strings[0]=\"issue_date\""
   ]
  },
  {
   "cell_type": "code",
   "execution_count": 226,
   "id": "bcb4f503",
   "metadata": {},
   "outputs": [
    {
     "data": {
      "text/plain": [
       "array([['May-15', 'Current', '36 months', ..., 'Verified',\n",
       "        'https://www.lendingclub.com/browse/loanDetail.action?loan_id=48010226', 'CA'],\n",
       "       ['', 'Current', '36 months', ..., 'Source Verified',\n",
       "        'https://www.lendingclub.com/browse/loanDetail.action?loan_id=57693261', 'NY'],\n",
       "       ['Sep-15', 'Current', '36 months', ..., 'Verified',\n",
       "        'https://www.lendingclub.com/browse/loanDetail.action?loan_id=59432726', 'PA'],\n",
       "       ...,\n",
       "       ['Jun-15', 'Current', '36 months', ..., 'Source Verified',\n",
       "        'https://www.lendingclub.com/browse/loanDetail.action?loan_id=50415990', 'CA'],\n",
       "       ['Apr-15', 'Current', '36 months', ..., 'Source Verified',\n",
       "        'https://www.lendingclub.com/browse/loanDetail.action?loan_id=46154151', 'OH'],\n",
       "       ['Dec-15', 'Current', '36 months', ..., '',\n",
       "        'https://www.lendingclub.com/browse/loanDetail.action?loan_id=66055249', 'IL']],\n",
       "      dtype='<U69')"
      ]
     },
     "execution_count": 226,
     "metadata": {},
     "output_type": "execute_result"
    }
   ],
   "source": [
    "loan_data_strings"
   ]
  },
  {
   "cell_type": "code",
   "execution_count": 227,
   "id": "d5e82a30",
   "metadata": {},
   "outputs": [
    {
     "data": {
      "text/plain": [
       "array(['', 'Apr-15', 'Aug-15', 'Dec-15', 'Feb-15', 'Jan-15', 'Jul-15', 'Jun-15', 'Mar-15',\n",
       "       'May-15', 'Nov-15', 'Oct-15', 'Sep-15'], dtype='<U69')"
      ]
     },
     "execution_count": 227,
     "metadata": {},
     "output_type": "execute_result"
    }
   ],
   "source": [
    "#looking from the dataset, issue date is first 3 letters of the month followed by year\n",
    "np.unique(loan_data_strings[:,0])\n",
    "#extracting the unique column values of the issue_date column to verify the pattern\n",
    "#all loans are issues in 2015 from the result shown below"
   ]
  },
  {
   "cell_type": "code",
   "execution_count": 228,
   "id": "7f1ed8ab",
   "metadata": {},
   "outputs": [
    {
     "data": {
      "text/plain": [
       "chararray(['May', '', 'Sep', ..., 'Jun', 'Apr', 'Dec'], dtype='<U69')"
      ]
     },
     "execution_count": 228,
     "metadata": {},
     "output_type": "execute_result"
    }
   ],
   "source": [
    "#since all loans are issues in 2015 we can remove the '-15' from the data \n",
    "np.chararray.strip(loan_data_strings[:,0],\"-15\")\n",
    "#np.chararray.strip= For each element in self, return a copy with the leading and trailing characters removed."
   ]
  },
  {
   "cell_type": "code",
   "execution_count": 229,
   "id": "68adf41b",
   "metadata": {},
   "outputs": [],
   "source": [
    "#overwriting the column values without '-15'\n",
    "loan_data_strings[:,0]=np.chararray.strip(loan_data_strings[:,0],\"-15\")"
   ]
  },
  {
   "cell_type": "code",
   "execution_count": 230,
   "id": "d24ee1f2",
   "metadata": {},
   "outputs": [
    {
     "data": {
      "text/plain": [
       "array(['', 'Apr', 'Aug', 'Dec', 'Feb', 'Jan', 'Jul', 'Jun', 'Mar', 'May', 'Nov', 'Oct', 'Sep'],\n",
       "      dtype='<U69')"
      ]
     },
     "execution_count": 230,
     "metadata": {},
     "output_type": "execute_result"
    }
   ],
   "source": [
    "np.unique(loan_data_strings[:,0])"
   ]
  },
  {
   "cell_type": "code",
   "execution_count": 231,
   "id": "f6ad5cbb",
   "metadata": {},
   "outputs": [],
   "source": [
    "#during analysis month values are better represented as integers as they occupy less space\n",
    "months=np.array(['','Jan','Feb','Mar','Apr','May','Jun','Jul','Aug','Sep','Oct','Nov','Dec'])\n",
    "#the empty string in the beginning of array is present in the column issue_date also"
   ]
  },
  {
   "cell_type": "code",
   "execution_count": 232,
   "id": "a42977b0",
   "metadata": {},
   "outputs": [],
   "source": [
    "# will assign 0 to missing values, candidates with no issue_Date\n",
    "# will assign numbers 1-12 to January to December\n",
    "for i in range(13):\n",
    "    loan_data_strings[:,0]=np.where(loan_data_strings[:,0]==months[i],\n",
    "                                    i,\n",
    "                                    loan_data_strings[:,0])\n",
    "#numpy.where(condition[, x, y])=Return elements chosen from x or y depending on condition."
   ]
  },
  {
   "cell_type": "code",
   "execution_count": 233,
   "id": "7311fd7c",
   "metadata": {},
   "outputs": [
    {
     "data": {
      "text/plain": [
       "array(['0', '1', '10', '11', '12', '2', '3', '4', '5', '6', '7', '8', '9'], dtype='<U69')"
      ]
     },
     "execution_count": 233,
     "metadata": {},
     "output_type": "execute_result"
    }
   ],
   "source": [
    "np.unique(loan_data_strings[:,0])"
   ]
  },
  {
   "cell_type": "markdown",
   "id": "d26bfbba",
   "metadata": {},
   "source": [
    "#### Loan Status column"
   ]
  },
  {
   "cell_type": "code",
   "execution_count": 234,
   "id": "ab07f647",
   "metadata": {},
   "outputs": [
    {
     "data": {
      "text/plain": [
       "array(['issue_date', 'loan_status', 'term', 'grade', 'sub_grade', 'verification_status', 'url',\n",
       "       'addr_state'], dtype='<U19')"
      ]
     },
     "execution_count": 234,
     "metadata": {},
     "output_type": "execute_result"
    }
   ],
   "source": [
    "header_strings"
   ]
  },
  {
   "cell_type": "code",
   "execution_count": 235,
   "id": "8c53a4fd",
   "metadata": {},
   "outputs": [
    {
     "data": {
      "text/plain": [
       "array(['Current', 'Current', 'Current', ..., 'Current', 'Current', 'Current'], dtype='<U69')"
      ]
     },
     "execution_count": 235,
     "metadata": {},
     "output_type": "execute_result"
    }
   ],
   "source": [
    "loan_data_strings[:,1]"
   ]
  },
  {
   "cell_type": "code",
   "execution_count": 236,
   "id": "bf5cfdb3",
   "metadata": {},
   "outputs": [
    {
     "data": {
      "text/plain": [
       "array(['', 'Charged Off', 'Current', 'Default', 'Fully Paid', 'In Grace Period', 'Issued',\n",
       "       'Late (16-30 days)', 'Late (31-120 days)'], dtype='<U69')"
      ]
     },
     "execution_count": 236,
     "metadata": {},
     "output_type": "execute_result"
    }
   ],
   "source": [
    "np.unique(loan_data_strings[:,1])"
   ]
  },
  {
   "cell_type": "code",
   "execution_count": 237,
   "id": "18ed7369",
   "metadata": {},
   "outputs": [
    {
     "data": {
      "text/plain": [
       "9"
      ]
     },
     "execution_count": 237,
     "metadata": {},
     "output_type": "execute_result"
    }
   ],
   "source": [
    "#checking the number of unique values to assign numbers to\n",
    "np.unique(loan_data_strings[:,1]).size"
   ]
  },
  {
   "cell_type": "code",
   "execution_count": 238,
   "id": "e12ad2b7",
   "metadata": {},
   "outputs": [
    {
     "data": {
      "text/plain": [
       "\"\\nregression analysis would only care if the candidate is in a stable financial position.\\nTherefore it would be wrong to give 9 different integers to each unique value in status column\\n'': indicates mising value thus treatead as BAD or 0\\n\\n'Charged Off': Referes to bad debt hence treated as 0\\n'Current':     Loan repayments are still active thus treated as GOOD or 1\\n'Default':     Defaulted loan treated as 0\\n'Fully Paid':  Loan is fully paid off treated as 1\\n'In Grace \\nPeriod'     :  borrower does not have to pay the issuer any monies toward the loan, 1\\n'Issued'    :  Loan must have been issued to someone who is capable of paying off, 1\\n'Late(16-30 \\ndays)'      :  usually repayment might be late due to salary being late, so given 1\\n'Late(31-120\\ndays)'      : long delay in repayment, might default so given 1\\n\\n0='bad',1='good' in terms of repayment classification\\n\""
      ]
     },
     "execution_count": 238,
     "metadata": {},
     "output_type": "execute_result"
    }
   ],
   "source": [
    "'''\n",
    "regression analysis would only care if the candidate is in a stable financial position.\n",
    "Therefore it would be wrong to give 9 different integers to each unique value in status column\n",
    "'': indicates mising value thus treatead as BAD or 0\n",
    "\n",
    "'Charged Off': Referes to bad debt hence treated as 0\n",
    "'Current':     Loan repayments are still active thus treated as GOOD or 1\n",
    "'Default':     Defaulted loan treated as 0\n",
    "'Fully Paid':  Loan is fully paid off treated as 1\n",
    "'In Grace \n",
    "Period'     :  borrower does not have to pay the issuer any monies toward the loan, 1\n",
    "'Issued'    :  Loan must have been issued to someone who is capable of paying off, 1\n",
    "'Late(16-30 \n",
    "days)'      :  usually repayment might be late due to salary being late, so given 1\n",
    "'Late(31-120\n",
    "days)'      : long delay in repayment, might default so given 1\n",
    "\n",
    "0='bad',1='good' in terms of repayment classification\n",
    "'''"
   ]
  },
  {
   "cell_type": "code",
   "execution_count": 239,
   "id": "76b1670d",
   "metadata": {},
   "outputs": [],
   "source": [
    "status_bad=np.array(['','Charged Off','Default','Late (31-120 days)'])"
   ]
  },
  {
   "cell_type": "code",
   "execution_count": 240,
   "id": "63b439da",
   "metadata": {},
   "outputs": [],
   "source": [
    "#aaplying an if condtion using np.where to assign 0 to values in bad_status array and 1 to the rest\n",
    "loan_data_strings[:,1]=np.where(np.isin(loan_data_strings[:,1],status_bad),0,1)"
   ]
  },
  {
   "cell_type": "code",
   "execution_count": 241,
   "id": "f0564830",
   "metadata": {},
   "outputs": [
    {
     "data": {
      "text/plain": [
       "array(['0', '1'], dtype='<U69')"
      ]
     },
     "execution_count": 241,
     "metadata": {},
     "output_type": "execute_result"
    }
   ],
   "source": [
    "#confirming if the np.where function worked correctly\n",
    "np.unique(loan_data_strings[:,1])"
   ]
  },
  {
   "cell_type": "markdown",
   "id": "a4e75cc5",
   "metadata": {},
   "source": [
    "#### Term column"
   ]
  },
  {
   "cell_type": "code",
   "execution_count": 242,
   "id": "efb4e2a2",
   "metadata": {
    "scrolled": true
   },
   "outputs": [
    {
     "data": {
      "text/plain": [
       "array(['issue_date', 'loan_status', 'term', 'grade', 'sub_grade', 'verification_status', 'url',\n",
       "       'addr_state'], dtype='<U19')"
      ]
     },
     "execution_count": 242,
     "metadata": {},
     "output_type": "execute_result"
    }
   ],
   "source": [
    "header_strings"
   ]
  },
  {
   "cell_type": "code",
   "execution_count": 243,
   "id": "76112495",
   "metadata": {},
   "outputs": [
    {
     "data": {
      "text/plain": [
       "array(['', '36 months', '60 months'], dtype='<U69')"
      ]
     },
     "execution_count": 243,
     "metadata": {},
     "output_type": "execute_result"
    }
   ],
   "source": [
    "np.unique(loan_data_strings[:,2])"
   ]
  },
  {
   "cell_type": "code",
   "execution_count": 244,
   "id": "f5c8fd98",
   "metadata": {},
   "outputs": [
    {
     "data": {
      "text/plain": [
       "array(['36', '36', '36', ..., '36', '36', '36'], dtype='<U69')"
      ]
     },
     "execution_count": 244,
     "metadata": {},
     "output_type": "execute_result"
    }
   ],
   "source": [
    "#looking at the data values in the column, all values are in months. hence we can remove months\n",
    "loan_data_strings[:,2]=np.chararray.strip(loan_data_strings[:,2],\" months\")\n",
    "loan_data_strings[:,2]"
   ]
  },
  {
   "cell_type": "code",
   "execution_count": 245,
   "id": "db1089d4",
   "metadata": {},
   "outputs": [],
   "source": [
    "#renaming the column to clarify what it contains\n",
    "header_strings[2]='term_months'"
   ]
  },
  {
   "cell_type": "code",
   "execution_count": 246,
   "id": "3d49a927",
   "metadata": {},
   "outputs": [
    {
     "data": {
      "text/plain": [
       "'\\nin Credit Risk Modelling, any missing value is the worst case scenario for repaybility\\nalso if the loan term is 60 months=5 years then that is the worst case scenario here\\nas it is difficult to repay a loan stretched over 5 years for this case. \\nthus we will subsitute the white space here as 60 months\\n'"
      ]
     },
     "execution_count": 246,
     "metadata": {},
     "output_type": "execute_result"
    }
   ],
   "source": [
    "'''\n",
    "in Credit Risk Modelling, any missing value is the worst case scenario for repaybility\n",
    "also if the loan term is 60 months=5 years then that is the worst case scenario here\n",
    "as it is difficult to repay a loan stretched over 5 years for this case. \n",
    "thus we will subsitute the white space here as 60 months\n",
    "'''"
   ]
  },
  {
   "cell_type": "code",
   "execution_count": 247,
   "id": "78326bc4",
   "metadata": {},
   "outputs": [],
   "source": [
    "loan_data_strings[:,2]=np.where(loan_data_strings[:,2]=='',60,loan_data_strings[:,2])"
   ]
  },
  {
   "cell_type": "code",
   "execution_count": 248,
   "id": "07729f17",
   "metadata": {},
   "outputs": [
    {
     "data": {
      "text/plain": [
       "array(['36', '60'], dtype='<U69')"
      ]
     },
     "execution_count": 248,
     "metadata": {},
     "output_type": "execute_result"
    }
   ],
   "source": [
    "np.unique(loan_data_strings[:,2])"
   ]
  },
  {
   "cell_type": "markdown",
   "id": "ed1842c9",
   "metadata": {},
   "source": [
    "#### Grade and Subgrade columns"
   ]
  },
  {
   "cell_type": "code",
   "execution_count": 249,
   "id": "b9955c56",
   "metadata": {},
   "outputs": [
    {
     "data": {
      "text/plain": [
       "array(['issue_date', 'loan_status', 'term_months', 'grade', 'sub_grade', 'verification_status',\n",
       "       'url', 'addr_state'], dtype='<U19')"
      ]
     },
     "execution_count": 249,
     "metadata": {},
     "output_type": "execute_result"
    }
   ],
   "source": [
    "header_strings"
   ]
  },
  {
   "cell_type": "code",
   "execution_count": 250,
   "id": "97d80460",
   "metadata": {},
   "outputs": [
    {
     "data": {
      "text/plain": [
       "array(['', 'A', 'B', 'C', 'D', 'E', 'F', 'G'], dtype='<U69')"
      ]
     },
     "execution_count": 250,
     "metadata": {},
     "output_type": "execute_result"
    }
   ],
   "source": [
    "#checking unique values in grade column\n",
    "np.unique(loan_data_strings[:,3])"
   ]
  },
  {
   "cell_type": "code",
   "execution_count": 251,
   "id": "1689c917",
   "metadata": {},
   "outputs": [
    {
     "data": {
      "text/plain": [
       "array(['', 'A1', 'A2', 'A3', 'A4', 'A5', 'B1', 'B2', 'B3', 'B4', 'B5', 'C1', 'C2', 'C3', 'C4',\n",
       "       'C5', 'D1', 'D2', 'D3', 'D4', 'D5', 'E1', 'E2', 'E3', 'E4', 'E5', 'F1', 'F2', 'F3', 'F4',\n",
       "       'F5', 'G1', 'G2', 'G3', 'G4', 'G5'], dtype='<U69')"
      ]
     },
     "execution_count": 251,
     "metadata": {},
     "output_type": "execute_result"
    }
   ],
   "source": [
    "#checking unique values in subgrade column\n",
    "np.unique(loan_data_strings[:,4])"
   ]
  },
  {
   "cell_type": "code",
   "execution_count": 252,
   "id": "7a960aa6",
   "metadata": {},
   "outputs": [
    {
     "data": {
      "text/plain": [
       "\"\\nthis function works by replacing the value in sub-grade column by example checking if the \\ncorresponsing grade column value is 'A' then assign the value of 'A5' to the missing value\\nin sub grade value. This is because 'A5' is the lowest quality in the 'A' category and any\\nmissing data should be assumed the worst case in that category\\n\""
      ]
     },
     "execution_count": 252,
     "metadata": {},
     "output_type": "execute_result"
    }
   ],
   "source": [
    "#filling missing values in sub-grade as the grade column and sub-grade column convey the same info\n",
    "for i in np.unique(loan_data_strings[:,3])[1:]: #starting from the non missing value thats why starting from 1:\n",
    "    loan_data_strings[:,4]=np.where((loan_data_strings[:,4]=='') & (loan_data_strings[:,3]==i),\n",
    "    i+'5',\n",
    "    loan_data_strings[:,4])\n",
    "\n",
    "'''\n",
    "this function works by replacing the value in sub-grade column by example checking if the \n",
    "corresponsing grade column value is 'A' then assign the value of 'A5' to the missing value\n",
    "in sub grade value. This is because 'A5' is the lowest quality in the 'A' category and any\n",
    "missing data should be assumed the worst case in that category\n",
    "'''"
   ]
  },
  {
   "cell_type": "code",
   "execution_count": 253,
   "id": "7888d1df",
   "metadata": {},
   "outputs": [
    {
     "data": {
      "text/plain": [
       "(array(['', 'A1', 'A2', 'A3', 'A4', 'A5', 'B1', 'B2', 'B3', 'B4', 'B5', 'C1', 'C2', 'C3', 'C4',\n",
       "        'C5', 'D1', 'D2', 'D3', 'D4', 'D5', 'E1', 'E2', 'E3', 'E4', 'E5', 'F1', 'F2', 'F3', 'F4',\n",
       "        'F5', 'G1', 'G2', 'G3', 'G4', 'G5'], dtype='<U69'),\n",
       " array([  9, 285, 278, 239, 323, 592, 509, 517, 530, 553, 633, 629, 567, 586, 564, 577, 391, 267,\n",
       "        250, 255, 288, 235, 162, 171, 139, 160,  94,  52,  34,  43,  24,  19,  10,   3,   7,   5],\n",
       "       dtype=int64))"
      ]
     },
     "execution_count": 253,
     "metadata": {},
     "output_type": "execute_result"
    }
   ],
   "source": [
    "np.unique(loan_data_strings[:,4],return_counts=True)\n",
    "#return counts gives the freuquency disti of all the unique vales\n",
    "#there are 9 empty rows still, which means neither a grade nor a sub-grade was present"
   ]
  },
  {
   "cell_type": "markdown",
   "id": "749401c8",
   "metadata": {},
   "source": [
    "#### Introducing category H1 in sub-grade for rest of the missing values"
   ]
  },
  {
   "cell_type": "code",
   "execution_count": 254,
   "id": "773a8b93",
   "metadata": {},
   "outputs": [],
   "source": [
    "#since missing values should be the worst-case we can replace the 9 missing values with the next category,H1\n",
    "loan_data_strings[:,4]=np.where(loan_data_strings[:,4]=='',\n",
    "                               'H1',\n",
    "                               loan_data_strings[:,4])"
   ]
  },
  {
   "cell_type": "code",
   "execution_count": 255,
   "id": "96d0ff38",
   "metadata": {},
   "outputs": [
    {
     "data": {
      "text/plain": [
       "array(['A1', 'A2', 'A3', 'A4', 'A5', 'B1', 'B2', 'B3', 'B4', 'B5', 'C1', 'C2', 'C3', 'C4', 'C5',\n",
       "       'D1', 'D2', 'D3', 'D4', 'D5', 'E1', 'E2', 'E3', 'E4', 'E5', 'F1', 'F2', 'F3', 'F4', 'F5',\n",
       "       'G1', 'G2', 'G3', 'G4', 'G5', 'H1'], dtype='<U69')"
      ]
     },
     "execution_count": 255,
     "metadata": {},
     "output_type": "execute_result"
    }
   ],
   "source": [
    "np.unique(loan_data_strings[:,4])"
   ]
  },
  {
   "cell_type": "markdown",
   "id": "a163f478",
   "metadata": {},
   "source": [
    "#### Removing Grade"
   ]
  },
  {
   "cell_type": "code",
   "execution_count": 256,
   "id": "57481147",
   "metadata": {},
   "outputs": [],
   "source": [
    "#the grade column is redundant after getting same info from the sub grade column\n",
    "loan_data_strings=np.delete(loan_data_strings,3,axis=1)\n",
    "#removes column index 3 = Grade from axis = 1 which states column axis"
   ]
  },
  {
   "cell_type": "code",
   "execution_count": 257,
   "id": "0f103605",
   "metadata": {},
   "outputs": [
    {
     "data": {
      "text/plain": [
       "array(['C3', 'A5', 'B5', ..., 'A5', 'D2', 'A4'], dtype='<U69')"
      ]
     },
     "execution_count": 257,
     "metadata": {},
     "output_type": "execute_result"
    }
   ],
   "source": [
    "#checking which is the new column index 3\n",
    "loan_data_strings[:,3]\n",
    "#column index 3 is now the sub-grade column"
   ]
  },
  {
   "cell_type": "code",
   "execution_count": 258,
   "id": "76f3bf7f",
   "metadata": {},
   "outputs": [
    {
     "data": {
      "text/plain": [
       "'sub_grade'"
      ]
     },
     "execution_count": 258,
     "metadata": {},
     "output_type": "execute_result"
    }
   ],
   "source": [
    "#removing grade column header \n",
    "header_strings=np.delete(header_strings,3)\n",
    "header_strings[3]\n",
    "#header_string index 3 is now sub-grade"
   ]
  },
  {
   "cell_type": "markdown",
   "id": "34d87487",
   "metadata": {},
   "source": [
    "#### Converting Sub-Grade column values to numbers"
   ]
  },
  {
   "cell_type": "code",
   "execution_count": 259,
   "id": "8a829313",
   "metadata": {},
   "outputs": [
    {
     "data": {
      "text/plain": [
       "array(['A1', 'A2', 'A3', 'A4', 'A5', 'B1', 'B2', 'B3', 'B4', 'B5', 'C1', 'C2', 'C3', 'C4', 'C5',\n",
       "       'D1', 'D2', 'D3', 'D4', 'D5', 'E1', 'E2', 'E3', 'E4', 'E5', 'F1', 'F2', 'F3', 'F4', 'F5',\n",
       "       'G1', 'G2', 'G3', 'G4', 'G5', 'H1'], dtype='<U69')"
      ]
     },
     "execution_count": 259,
     "metadata": {},
     "output_type": "execute_result"
    }
   ],
   "source": [
    "np.unique(loan_data_strings[:,3])"
   ]
  },
  {
   "cell_type": "code",
   "execution_count": 260,
   "id": "8a76f268",
   "metadata": {},
   "outputs": [],
   "source": [
    "# to avoid using np.where for so many values, create a dictionary for values in sub-grade column\n",
    "#since the grading of loans reflects quality form best to worst in A1 to H1 we will designative numbers starting grom 1 to A1\n",
    "keys=list(np.unique(loan_data_strings[:,3]))\n",
    "values=list(range(1,np.unique(loan_data_strings[:,3]).shape[0]+1))\n",
    "dict_sub_grade=dict(zip(keys,values))"
   ]
  },
  {
   "cell_type": "code",
   "execution_count": 261,
   "id": "dcff8140",
   "metadata": {},
   "outputs": [
    {
     "data": {
      "text/plain": [
       "{'A1': 1,\n",
       " 'A2': 2,\n",
       " 'A3': 3,\n",
       " 'A4': 4,\n",
       " 'A5': 5,\n",
       " 'B1': 6,\n",
       " 'B2': 7,\n",
       " 'B3': 8,\n",
       " 'B4': 9,\n",
       " 'B5': 10,\n",
       " 'C1': 11,\n",
       " 'C2': 12,\n",
       " 'C3': 13,\n",
       " 'C4': 14,\n",
       " 'C5': 15,\n",
       " 'D1': 16,\n",
       " 'D2': 17,\n",
       " 'D3': 18,\n",
       " 'D4': 19,\n",
       " 'D5': 20,\n",
       " 'E1': 21,\n",
       " 'E2': 22,\n",
       " 'E3': 23,\n",
       " 'E4': 24,\n",
       " 'E5': 25,\n",
       " 'F1': 26,\n",
       " 'F2': 27,\n",
       " 'F3': 28,\n",
       " 'F4': 29,\n",
       " 'F5': 30,\n",
       " 'G1': 31,\n",
       " 'G2': 32,\n",
       " 'G3': 33,\n",
       " 'G4': 34,\n",
       " 'G5': 35,\n",
       " 'H1': 36}"
      ]
     },
     "execution_count": 261,
     "metadata": {},
     "output_type": "execute_result"
    }
   ],
   "source": [
    "dict_sub_grade"
   ]
  },
  {
   "cell_type": "code",
   "execution_count": 262,
   "id": "8ee6fe4a",
   "metadata": {},
   "outputs": [],
   "source": [
    "#converting each value from the subgrade to a numerical value extracted from keys\n",
    "for i in np.unique(loan_data_strings[:,3]):\n",
    "    loan_data_strings[:,3]=np.where(loan_data_strings[:,3]==i,\n",
    "                                   dict_sub_grade[i],\n",
    "                                   loan_data_strings[:,3])"
   ]
  },
  {
   "cell_type": "code",
   "execution_count": 263,
   "id": "1e09327d",
   "metadata": {},
   "outputs": [
    {
     "data": {
      "text/plain": [
       "array(['1', '10', '11', '12', '13', '14', '15', '16', '17', '18', '19', '2', '20', '21', '22',\n",
       "       '23', '24', '25', '26', '27', '28', '29', '3', '30', '31', '32', '33', '34', '35', '36',\n",
       "       '4', '5', '6', '7', '8', '9'], dtype='<U69')"
      ]
     },
     "execution_count": 263,
     "metadata": {},
     "output_type": "execute_result"
    }
   ],
   "source": [
    "#resultant array\n",
    "np.unique(loan_data_strings[:,3])"
   ]
  },
  {
   "cell_type": "markdown",
   "id": "84f4deb9",
   "metadata": {},
   "source": [
    "#### Verification Status Column"
   ]
  },
  {
   "cell_type": "code",
   "execution_count": 264,
   "id": "97617ad0",
   "metadata": {},
   "outputs": [
    {
     "data": {
      "text/plain": [
       "array(['issue_date', 'loan_status', 'term_months', 'sub_grade', 'verification_status', 'url',\n",
       "       'addr_state'], dtype='<U19')"
      ]
     },
     "execution_count": 264,
     "metadata": {},
     "output_type": "execute_result"
    }
   ],
   "source": [
    "header_strings"
   ]
  },
  {
   "cell_type": "code",
   "execution_count": 265,
   "id": "672deb87",
   "metadata": {},
   "outputs": [
    {
     "data": {
      "text/plain": [
       "array(['', 'Not Verified', 'Source Verified', 'Verified'], dtype='<U69')"
      ]
     },
     "execution_count": 265,
     "metadata": {},
     "output_type": "execute_result"
    }
   ],
   "source": [
    "np.unique(loan_data_strings[:,4])"
   ]
  },
  {
   "cell_type": "code",
   "execution_count": 266,
   "id": "4503da66",
   "metadata": {},
   "outputs": [
    {
     "data": {
      "text/plain": [
       "\"\\nAny missing value in a loan would be considered a non-verified loan. We can assign a value of\\n0 to the missing and 'Not Verirfed' values. \\nMeanwhile 'Source Verified' indicates that investor backing is proved.Hence we can assign value\\nof 1 to both the 'Verified' and 'Source Verified' columns\\n\""
      ]
     },
     "execution_count": 266,
     "metadata": {},
     "output_type": "execute_result"
    }
   ],
   "source": [
    "'''\n",
    "Any missing value in a loan would be considered a non-verified loan. We can assign a value of\n",
    "0 to the missing and 'Not Verirfed' values. \n",
    "Meanwhile 'Source Verified' indicates that investor backing is proved.Hence we can assign value\n",
    "of 1 to both the 'Verified' and 'Source Verified' columns\n",
    "'''"
   ]
  },
  {
   "cell_type": "code",
   "execution_count": 267,
   "id": "d759fe9e",
   "metadata": {},
   "outputs": [],
   "source": [
    "loan_data_strings[:,4]=np.where((loan_data_strings[:,4]=='') | (loan_data_strings[:,4]=='Not Verified'),\n",
    "                                0,\n",
    "                                1)                   "
   ]
  },
  {
   "cell_type": "code",
   "execution_count": 268,
   "id": "f6607917",
   "metadata": {},
   "outputs": [
    {
     "data": {
      "text/plain": [
       "array(['0', '1'], dtype='<U69')"
      ]
     },
     "execution_count": 268,
     "metadata": {},
     "output_type": "execute_result"
    }
   ],
   "source": [
    "np.unique(loan_data_strings[:,4])"
   ]
  },
  {
   "cell_type": "markdown",
   "id": "8c8374f7",
   "metadata": {},
   "source": [
    "#### URL column"
   ]
  },
  {
   "cell_type": "code",
   "execution_count": 269,
   "id": "ea90ac4b",
   "metadata": {},
   "outputs": [
    {
     "data": {
      "text/plain": [
       "array(['https://www.lendingclub.com/browse/loanDetail.action?loan_id=48010226',\n",
       "       'https://www.lendingclub.com/browse/loanDetail.action?loan_id=57693261',\n",
       "       'https://www.lendingclub.com/browse/loanDetail.action?loan_id=59432726', ...,\n",
       "       'https://www.lendingclub.com/browse/loanDetail.action?loan_id=50415990',\n",
       "       'https://www.lendingclub.com/browse/loanDetail.action?loan_id=46154151',\n",
       "       'https://www.lendingclub.com/browse/loanDetail.action?loan_id=66055249'], dtype='<U69')"
      ]
     },
     "execution_count": 269,
     "metadata": {},
     "output_type": "execute_result"
    }
   ],
   "source": [
    "loan_data_strings[:,5]"
   ]
  },
  {
   "cell_type": "code",
   "execution_count": 270,
   "id": "d370def9",
   "metadata": {},
   "outputs": [],
   "source": [
    "#the url value until the ID numbers is the same and can be discarded\n",
    "loan_data_strings[:,5]=np.chararray.strip(loan_data_strings[:,5],'https://www.lendingclub.com/browse/loanDetail.action?loan_id=')"
   ]
  },
  {
   "cell_type": "code",
   "execution_count": 271,
   "id": "c3d8648b",
   "metadata": {},
   "outputs": [
    {
     "data": {
      "text/plain": [
       "array(['48010226', '57693261', '59432726', ..., '50415990', '46154151', '66055249'], dtype='<U69')"
      ]
     },
     "execution_count": 271,
     "metadata": {},
     "output_type": "execute_result"
    }
   ],
   "source": [
    "loan_data_strings[:,5]"
   ]
  },
  {
   "cell_type": "code",
   "execution_count": 272,
   "id": "c8e4c7e8",
   "metadata": {},
   "outputs": [
    {
     "data": {
      "text/plain": [
       "array(['id', 'issue_d', 'loan_amnt', 'loan_status', 'funded_amnt', 'term', 'int_rate',\n",
       "       'installment', 'grade', 'sub_grade', 'verification_status', 'url', 'addr_state',\n",
       "       'total_pymnt'], dtype='<U19')"
      ]
     },
     "execution_count": 272,
     "metadata": {},
     "output_type": "execute_result"
    }
   ],
   "source": [
    "#these are numbers stored as string values\n",
    "#while loading the dataset there was already an ID column present as the first column\n",
    "header_full"
   ]
  },
  {
   "cell_type": "code",
   "execution_count": 273,
   "id": "63bfc2e3",
   "metadata": {},
   "outputs": [
    {
     "name": "stdout",
     "output_type": "stream",
     "text": [
      "[48010226 57693261 59432726 ... 50415990 46154151 66055249]\n",
      "[48010226 57693261 59432726 ... 50415990 46154151 66055249]\n"
     ]
    }
   ],
   "source": [
    "#the 'id' column and the new 'url' column look the same\n",
    "print(loan_data_numeric[:,0].astype(dtype=np.int32))\n",
    "print(loan_data_strings[:,5].astype(dtype=np.int32))"
   ]
  },
  {
   "cell_type": "code",
   "execution_count": 274,
   "id": "fc3850ac",
   "metadata": {},
   "outputs": [
    {
     "data": {
      "text/plain": [
       "True"
      ]
     },
     "execution_count": 274,
     "metadata": {},
     "output_type": "execute_result"
    }
   ],
   "source": [
    "#although both columns look the same in numeric form, we can confirm their equality\n",
    "np.array_equal(loan_data_numeric[:,0].astype(dtype=np.int32),loan_data_strings[:,5].astype(dtype=np.int32))"
   ]
  },
  {
   "cell_type": "code",
   "execution_count": 275,
   "id": "395999ca",
   "metadata": {},
   "outputs": [],
   "source": [
    "#since both columns represnt same info, we can remove URL column\n",
    "loan_data_strings=np.delete(loan_data_strings,5,axis=1)\n",
    "header_strings=np.delete(header_strings,5)"
   ]
  },
  {
   "cell_type": "code",
   "execution_count": 276,
   "id": "d249d33f",
   "metadata": {},
   "outputs": [
    {
     "data": {
      "text/plain": [
       "array(['CA', 'NY', 'PA', ..., 'CA', 'OH', 'IL'], dtype='<U69')"
      ]
     },
     "execution_count": 276,
     "metadata": {},
     "output_type": "execute_result"
    }
   ],
   "source": [
    "loan_data_strings[:,5]"
   ]
  },
  {
   "cell_type": "code",
   "execution_count": 277,
   "id": "e82c5060",
   "metadata": {},
   "outputs": [
    {
     "data": {
      "text/plain": [
       "'addr_state'"
      ]
     },
     "execution_count": 277,
     "metadata": {},
     "output_type": "execute_result"
    }
   ],
   "source": [
    "#addr_state is now column index5\n",
    "header_strings[5]"
   ]
  },
  {
   "cell_type": "markdown",
   "id": "3fe3131a",
   "metadata": {},
   "source": [
    "#### State Address"
   ]
  },
  {
   "cell_type": "code",
   "execution_count": 278,
   "id": "50fd96e3",
   "metadata": {},
   "outputs": [
    {
     "data": {
      "text/plain": [
       "array(['issue_date', 'loan_status', 'term_months', 'sub_grade', 'verification_status',\n",
       "       'addr_state'], dtype='<U19')"
      ]
     },
     "execution_count": 278,
     "metadata": {},
     "output_type": "execute_result"
    }
   ],
   "source": [
    "header_strings"
   ]
  },
  {
   "cell_type": "code",
   "execution_count": 279,
   "id": "b40233ae",
   "metadata": {},
   "outputs": [],
   "source": [
    "#creating a clear column name\n",
    "header_strings[5]=\"state_address\""
   ]
  },
  {
   "cell_type": "code",
   "execution_count": 280,
   "id": "acdeaeb0",
   "metadata": {
    "scrolled": true
   },
   "outputs": [
    {
     "data": {
      "text/plain": [
       "(array(['', 'AK', 'AL', 'AR', 'AZ', 'CA', 'CO', 'CT', 'DC', 'DE', 'FL', 'GA', 'HI', 'IL', 'IN',\n",
       "        'KS', 'KY', 'LA', 'MA', 'MD', 'ME', 'MI', 'MN', 'MO', 'MS', 'MT', 'NC', 'ND', 'NE', 'NH',\n",
       "        'NJ', 'NM', 'NV', 'NY', 'OH', 'OK', 'OR', 'PA', 'RI', 'SC', 'SD', 'TN', 'TX', 'UT', 'VA',\n",
       "        'VT', 'WA', 'WI', 'WV', 'WY'], dtype='<U69'),\n",
       " array([ 500,   26,  119,   74,  220, 1336,  201,  143,   27,   27,  690,  321,   44,  389,  152,\n",
       "          84,   84,  116,  210,  222,   10,  267,  156,  160,   61,   28,  261,   16,   25,   58,\n",
       "         341,   57,  130,  777,  312,   83,  108,  320,   40,  107,   24,  143,  758,   74,  242,\n",
       "          17,  216,  148,   49,   27], dtype=int64))"
      ]
     },
     "execution_count": 280,
     "metadata": {},
     "output_type": "execute_result"
    }
   ],
   "source": [
    "np.unique(loan_data_strings[:,5],return_counts=True)"
   ]
  },
  {
   "cell_type": "code",
   "execution_count": 281,
   "id": "0ad5d8f6",
   "metadata": {},
   "outputs": [
    {
     "data": {
      "text/plain": [
       "50"
      ]
     },
     "execution_count": 281,
     "metadata": {},
     "output_type": "execute_result"
    }
   ],
   "source": [
    "#checking no of states including the blank space or missing values\n",
    "np.unique(loan_data_strings[:,5]).size\n",
    "#on a closer look, the missing state is Iowa, which could have been taken as a benchmark state \n",
    "#to base other state values on"
   ]
  },
  {
   "cell_type": "code",
   "execution_count": 282,
   "id": "c6f846de",
   "metadata": {},
   "outputs": [],
   "source": [
    "states_names,states_count=np.unique(loan_data_strings[:,5],return_counts=True)"
   ]
  },
  {
   "cell_type": "code",
   "execution_count": 283,
   "id": "83334bb9",
   "metadata": {},
   "outputs": [
    {
     "data": {
      "text/plain": [
       "(array(['CA', 'NY', 'TX', 'FL', '', 'IL', 'NJ', 'GA', 'PA', 'OH', 'MI', 'NC', 'VA', 'MD', 'AZ',\n",
       "        'WA', 'MA', 'CO', 'MO', 'MN', 'IN', 'WI', 'CT', 'TN', 'NV', 'AL', 'LA', 'OR', 'SC', 'KY',\n",
       "        'KS', 'OK', 'UT', 'AR', 'MS', 'NH', 'NM', 'WV', 'HI', 'RI', 'MT', 'DE', 'DC', 'WY', 'AK',\n",
       "        'NE', 'SD', 'VT', 'ND', 'ME'], dtype='<U69'),\n",
       " array([1336,  777,  758,  690,  500,  389,  341,  321,  320,  312,  267,  261,  242,  222,  220,\n",
       "         216,  210,  201,  160,  156,  152,  148,  143,  143,  130,  119,  116,  108,  107,   84,\n",
       "          84,   83,   74,   74,   61,   58,   57,   49,   44,   40,   28,   27,   27,   27,   26,\n",
       "          25,   24,   17,   16,   10], dtype=int64))"
      ]
     },
     "execution_count": 283,
     "metadata": {},
     "output_type": "execute_result"
    }
   ],
   "source": [
    "#we can sort the freuency distribution of states in descending order\n",
    "states_count_sorted=np.argsort(-states_count)\n",
    "states_names[states_count_sorted],states_count[states_count_sorted]"
   ]
  },
  {
   "cell_type": "code",
   "execution_count": 284,
   "id": "30bd2c75",
   "metadata": {},
   "outputs": [
    {
     "data": {
      "text/plain": [
       "\"\\nthere are 500 missing values in the column as shown above. We will have to get rid of missing\\nvalues. To do this, we can divide all the states in 4 major regions. By doing this we avoid\\neach individual state data getting affected by outliers as there is too little data for each \\nstate to be examined individually. Thus we can assign the value 0 to missing data in the column,\\nas it won't correspond to any region's data. \\n\""
      ]
     },
     "execution_count": 284,
     "metadata": {},
     "output_type": "execute_result"
    }
   ],
   "source": [
    "'''\n",
    "there are 500 missing values in the column as shown above. We will have to get rid of missing\n",
    "values. To do this, we can divide all the states in 4 major regions. By doing this we avoid\n",
    "each individual state data getting affected by outliers as there is too little data for each \n",
    "state to be examined individually. Thus we can assign the value 0 to missing data in the column,\n",
    "as it won't correspond to any region's data. \n",
    "'''"
   ]
  },
  {
   "cell_type": "code",
   "execution_count": 285,
   "id": "361b57f2",
   "metadata": {},
   "outputs": [],
   "source": [
    "#assigning 0 to missing values\n",
    "loan_data_strings[:,5]=np.where(loan_data_strings[:,5]=='',\n",
    "                                0,\n",
    "                                loan_data_strings[:,5])"
   ]
  },
  {
   "cell_type": "markdown",
   "id": "6172ba56",
   "metadata": {},
   "source": [
    "#### Creating 4 regions for state categories"
   ]
  },
  {
   "cell_type": "code",
   "execution_count": 286,
   "id": "06f65ebb",
   "metadata": {},
   "outputs": [],
   "source": [
    "#source for region segregation:https://www2.census.gov/geo/pdfs/reference/Geography_Notes.pdf\n",
    "states_west=np.array(['WA', 'OR','CA','NV','ID','MT', 'WY','UT','CO', 'AZ','NM','HI','AK'])\n",
    "states_south=np.array(['TX','OK','AR','LA','MS','AL','TN','KY','FL','GA','SC','NC','VA','WV','MD','DE','DC'])\n",
    "states_midwest=np.array(['ND','SD','NE','KS','MN','IA','MO','WI','IL','IN','MI','OH'])\n",
    "states_east=np.array(['PA','NY','NJ','CT','MA','VT','NH','ME','RI'])"
   ]
  },
  {
   "cell_type": "code",
   "execution_count": 287,
   "id": "ab62d620",
   "metadata": {},
   "outputs": [],
   "source": [
    "# Assigning numbers 1-4 to regions and 0 to missing values\n",
    "loan_data_strings[:,5]=np.where(np.isin(loan_data_strings[:,5],states_west),1,loan_data_strings[:,5])\n",
    "loan_data_strings[:,5]=np.where(np.isin(loan_data_strings[:,5],states_south),2,loan_data_strings[:,5])\n",
    "loan_data_strings[:,5]=np.where(np.isin(loan_data_strings[:,5],states_midwest),3,loan_data_strings[:,5])\n",
    "loan_data_strings[:,5]=np.where(np.isin(loan_data_strings[:,5],states_east),4,loan_data_strings[:,5])"
   ]
  },
  {
   "cell_type": "code",
   "execution_count": 288,
   "id": "90ad79e3",
   "metadata": {},
   "outputs": [
    {
     "data": {
      "text/plain": [
       "array(['0', '1', '2', '3', '4'], dtype='<U69')"
      ]
     },
     "execution_count": 288,
     "metadata": {},
     "output_type": "execute_result"
    }
   ],
   "source": [
    "#checking the assignment is correct or not\n",
    "np.unique(loan_data_strings[:,5])"
   ]
  },
  {
   "cell_type": "markdown",
   "id": "2d052549",
   "metadata": {},
   "source": [
    "#### Converting strings to numerical format"
   ]
  },
  {
   "cell_type": "code",
   "execution_count": 289,
   "id": "49d943c6",
   "metadata": {},
   "outputs": [
    {
     "data": {
      "text/plain": [
       "array([['5', '1', '36', '13', '1', '1'],\n",
       "       ['0', '1', '36', '5', '1', '4'],\n",
       "       ['9', '1', '36', '10', '1', '4'],\n",
       "       ...,\n",
       "       ['6', '1', '36', '5', '1', '1'],\n",
       "       ['4', '1', '36', '17', '1', '3'],\n",
       "       ['12', '1', '36', '4', '0', '3']], dtype='<U69')"
      ]
     },
     "execution_count": 289,
     "metadata": {},
     "output_type": "execute_result"
    }
   ],
   "source": [
    "#after assigning values to strings, these values are still strings\n",
    "loan_data_strings"
   ]
  },
  {
   "cell_type": "code",
   "execution_count": 290,
   "id": "f35f6a3f",
   "metadata": {},
   "outputs": [
    {
     "name": "stderr",
     "output_type": "stream",
     "text": [
      "<ipython-input-290-7547426f7875>:2: DeprecationWarning: `np.int` is a deprecated alias for the builtin `int`. To silence this warning, use `int` by itself. Doing this will not modify any behavior and is safe. When replacing `np.int`, you may wish to use e.g. `np.int64` or `np.int32` to specify the precision. If you wish to review your current use, check the release note link for additional information.\n",
      "Deprecated in NumPy 1.20; for more details and guidance: https://numpy.org/devdocs/release/1.20.0-notes.html#deprecations\n",
      "  loan_data_strings=loan_data_strings.astype(np.int)\n"
     ]
    },
    {
     "data": {
      "text/plain": [
       "array([[ 5,  1, 36, 13,  1,  1],\n",
       "       [ 0,  1, 36,  5,  1,  4],\n",
       "       [ 9,  1, 36, 10,  1,  4],\n",
       "       ...,\n",
       "       [ 6,  1, 36,  5,  1,  1],\n",
       "       [ 4,  1, 36, 17,  1,  3],\n",
       "       [12,  1, 36,  4,  0,  3]])"
      ]
     },
     "execution_count": 290,
     "metadata": {},
     "output_type": "execute_result"
    }
   ],
   "source": [
    "#these strings can be converted to numeric data type\n",
    "loan_data_strings=loan_data_strings.astype(np.int)\n",
    "loan_data_strings"
   ]
  },
  {
   "cell_type": "markdown",
   "id": "d9052697",
   "metadata": {},
   "source": [
    "#### Checkpoint #1:Strings "
   ]
  },
  {
   "cell_type": "code",
   "execution_count": 291,
   "id": "39b24b6b",
   "metadata": {},
   "outputs": [],
   "source": [
    "checkpoint_strings=checkpoint(\"Checkpoint-Strings\",header_strings,loan_data_strings)"
   ]
  },
  {
   "cell_type": "code",
   "execution_count": 292,
   "id": "d9603655",
   "metadata": {},
   "outputs": [
    {
     "data": {
      "text/plain": [
       "array(['issue_date', 'loan_status', 'term_months', 'sub_grade', 'verification_status',\n",
       "       'state_address'], dtype='<U19')"
      ]
     },
     "execution_count": 292,
     "metadata": {},
     "output_type": "execute_result"
    }
   ],
   "source": [
    "checkpoint_strings['header']"
   ]
  },
  {
   "cell_type": "code",
   "execution_count": 293,
   "id": "946d1f4a",
   "metadata": {},
   "outputs": [
    {
     "data": {
      "text/plain": [
       "array([[ 5,  1, 36, 13,  1,  1],\n",
       "       [ 0,  1, 36,  5,  1,  4],\n",
       "       [ 9,  1, 36, 10,  1,  4],\n",
       "       ...,\n",
       "       [ 6,  1, 36,  5,  1,  1],\n",
       "       [ 4,  1, 36, 17,  1,  3],\n",
       "       [12,  1, 36,  4,  0,  3]])"
      ]
     },
     "execution_count": 293,
     "metadata": {},
     "output_type": "execute_result"
    }
   ],
   "source": [
    "checkpoint_strings['data']"
   ]
  },
  {
   "cell_type": "code",
   "execution_count": 294,
   "id": "15622d81",
   "metadata": {},
   "outputs": [
    {
     "data": {
      "text/plain": [
       "True"
      ]
     },
     "execution_count": 294,
     "metadata": {},
     "output_type": "execute_result"
    }
   ],
   "source": [
    "np.array_equal(checkpoint_strings['data'],loan_data_strings)"
   ]
  },
  {
   "cell_type": "markdown",
   "id": "38cbb598",
   "metadata": {},
   "source": [
    "## Manipulating Numeric Columns"
   ]
  },
  {
   "cell_type": "code",
   "execution_count": 295,
   "id": "a6436761",
   "metadata": {},
   "outputs": [
    {
     "data": {
      "text/plain": [
       "array([[48010226.  ,    35000.  ,    35000.  ,       13.33,     1184.86,     9452.96],\n",
       "       [57693261.  ,    30000.  ,    30000.  , 68616520.  ,      938.57,     4679.7 ],\n",
       "       [59432726.  ,    15000.  ,    15000.  , 68616520.  ,      494.86,     1969.83],\n",
       "       ...,\n",
       "       [50415990.  ,    10000.  ,    10000.  , 68616520.  , 68616520.  ,     2185.64],\n",
       "       [46154151.  , 68616520.  ,    10000.  ,       16.55,      354.3 ,     3199.4 ],\n",
       "       [66055249.  ,    10000.  ,    10000.  , 68616520.  ,      309.97,      301.9 ]])"
      ]
     },
     "execution_count": 295,
     "metadata": {},
     "output_type": "execute_result"
    }
   ],
   "source": [
    "loan_data_numeric"
   ]
  },
  {
   "cell_type": "code",
   "execution_count": 296,
   "id": "8ba756f6",
   "metadata": {},
   "outputs": [
    {
     "data": {
      "text/plain": [
       "0"
      ]
     },
     "execution_count": 296,
     "metadata": {},
     "output_type": "execute_result"
    }
   ],
   "source": [
    "#checking for missing values\n",
    "np.isnan(loan_data_numeric).sum()\n",
    "#the dataset shows no nan values"
   ]
  },
  {
   "cell_type": "markdown",
   "id": "e64ed21f",
   "metadata": {},
   "source": [
    "Replacing temp_fill values"
   ]
  },
  {
   "cell_type": "code",
   "execution_count": null,
   "id": "a3b75143",
   "metadata": {},
   "outputs": [],
   "source": [
    "#we filled the nan values with temp_fill earlier\n",
    "#we have to replace missing data with worst case scenario according to Credit Risk Modelling"
   ]
  },
  {
   "cell_type": "code",
   "execution_count": 297,
   "id": "c447de0f",
   "metadata": {},
   "outputs": [
    {
     "data": {
      "text/plain": [
       "array(['id', 'loan_amnt', 'funded_amnt', 'int_rate', 'installment', 'total_pymnt'], dtype='<U19')"
      ]
     },
     "execution_count": 297,
     "metadata": {},
     "output_type": "execute_result"
    }
   ],
   "source": [
    "header_numeric"
   ]
  },
  {
   "cell_type": "markdown",
   "id": "aad65615",
   "metadata": {},
   "source": [
    "#### ID column"
   ]
  },
  {
   "cell_type": "code",
   "execution_count": 298,
   "id": "cb36aa04",
   "metadata": {},
   "outputs": [
    {
     "data": {
      "text/plain": [
       "array([False, False, False, ..., False, False, False])"
      ]
     },
     "execution_count": 298,
     "metadata": {},
     "output_type": "execute_result"
    }
   ],
   "source": [
    "#checking if there is any temp_fill value in the ID column\n",
    "np.isin(loan_data_numeric[:,0],temp_fill)"
   ]
  },
  {
   "cell_type": "code",
   "execution_count": 299,
   "id": "7e5a9609",
   "metadata": {},
   "outputs": [
    {
     "data": {
      "text/plain": [
       "0"
      ]
     },
     "execution_count": 299,
     "metadata": {},
     "output_type": "execute_result"
    }
   ],
   "source": [
    "np.isin(loan_data_numeric[:,0],temp_fill).sum()\n",
    "#thus since there are no temp_fill values in the ID column, there were no missing values"
   ]
  },
  {
   "cell_type": "markdown",
   "id": "e57d28a3",
   "metadata": {},
   "source": [
    "#### Other columns"
   ]
  },
  {
   "cell_type": "code",
   "execution_count": 300,
   "id": "9ae23a12",
   "metadata": {},
   "outputs": [
    {
     "data": {
      "text/plain": [
       "array(['id', 'loan_amnt', 'funded_amnt', 'int_rate', 'installment', 'total_pymnt'], dtype='<U19')"
      ]
     },
     "execution_count": 300,
     "metadata": {},
     "output_type": "execute_result"
    }
   ],
   "source": [
    "header_numeric"
   ]
  },
  {
   "cell_type": "code",
   "execution_count": null,
   "id": "3004b70b",
   "metadata": {},
   "outputs": [],
   "source": [
    "'''\n",
    "the rest of the columns from loan_amt to total_pyment, the only column for which it would be \n",
    "bad to have the lowest possible value is 'funded_amt'. Thus we will fill the missing values in\n",
    "this column with the min of all values in the column.\n",
    "For all other columns, the highest or the max values would be bad for repayability thus we will\n",
    "fill missing values in these columns with column max\n",
    "'''"
   ]
  },
  {
   "cell_type": "markdown",
   "id": "d2cd7c21",
   "metadata": {},
   "source": [
    "#### Using the temp_stats created before to fill nan values"
   ]
  },
  {
   "cell_type": "code",
   "execution_count": 302,
   "id": "8fdeb1cb",
   "metadata": {},
   "outputs": [
    {
     "data": {
      "text/plain": [
       "array([[  373332.  ,     1000.  ,     1000.  ,        6.  ,       31.42,        0.  ],\n",
       "       [54015809.19,    15273.46,    15311.04,       16.62,      440.92,     3143.85],\n",
       "       [68616519.  ,    35000.  ,    35000.  ,       28.99,     1372.97,    41913.62]])"
      ]
     },
     "execution_count": 302,
     "metadata": {},
     "output_type": "execute_result"
    }
   ],
   "source": [
    "#the first row in temp_stats contains all columns' min, 2nd row mean, 3rd row max \n",
    "temp_stats[:,columns_numeric]\n",
    "# ex total_amt column min value is 0 and max is 41913.62"
   ]
  },
  {
   "cell_type": "markdown",
   "id": "bf273f73",
   "metadata": {},
   "source": [
    "#### Funded Amount Column"
   ]
  },
  {
   "cell_type": "code",
   "execution_count": 304,
   "id": "d2c75f9d",
   "metadata": {},
   "outputs": [
    {
     "data": {
      "text/plain": [
       "array([35000., 30000., 15000., ..., 10000., 10000., 10000.])"
      ]
     },
     "execution_count": 304,
     "metadata": {},
     "output_type": "execute_result"
    }
   ],
   "source": [
    "#funded amount missing values will be filled with the minimum amount\n",
    "loan_data_numeric[:,2]"
   ]
  },
  {
   "cell_type": "code",
   "execution_count": 305,
   "id": "084049b2",
   "metadata": {},
   "outputs": [
    {
     "data": {
      "text/plain": [
       "array([35000., 30000., 15000., ..., 10000., 10000., 10000.])"
      ]
     },
     "execution_count": 305,
     "metadata": {},
     "output_type": "execute_result"
    }
   ],
   "source": [
    "loan_data_numeric[:,2]=np.where(loan_data_numeric[:,2]==temp_fill,\n",
    "                               temp_stats[0,columns_numeric[2]],\n",
    "                               loan_data_numeric[:,2])\n",
    "loan_data_numeric[:,2]"
   ]
  },
  {
   "cell_type": "markdown",
   "id": "1d901090",
   "metadata": {},
   "source": [
    "#### Loaned Amount,Interest Rate,Total Payment,Installment"
   ]
  },
  {
   "cell_type": "code",
   "execution_count": 306,
   "id": "38bf37e1",
   "metadata": {},
   "outputs": [
    {
     "data": {
      "text/plain": [
       "array(['id', 'loan_amnt', 'funded_amnt', 'int_rate', 'installment', 'total_pymnt'], dtype='<U19')"
      ]
     },
     "execution_count": 306,
     "metadata": {},
     "output_type": "execute_result"
    }
   ],
   "source": [
    "header_numeric"
   ]
  },
  {
   "cell_type": "code",
   "execution_count": 307,
   "id": "d8ba4ac5",
   "metadata": {},
   "outputs": [],
   "source": [
    "#since we want max values in place of temp_fill in all these columns, can use a for loop\n",
    "for i in [1,3,4,5]:\n",
    "    loan_data_numeric[:,i]=np.where(loan_data_numeric[:,i]==temp_fill,\n",
    "                                   temp_stats[0,columns_numeric[i]],\n",
    "                                   loan_data_numeric[:,i])"
   ]
  },
  {
   "cell_type": "code",
   "execution_count": 308,
   "id": "dee1b72a",
   "metadata": {},
   "outputs": [
    {
     "data": {
      "text/plain": [
       "array([[48010226.  ,    35000.  ,    35000.  ,       13.33,     1184.86,     9452.96],\n",
       "       [57693261.  ,    30000.  ,    30000.  ,        6.  ,      938.57,     4679.7 ],\n",
       "       [59432726.  ,    15000.  ,    15000.  ,        6.  ,      494.86,     1969.83],\n",
       "       ...,\n",
       "       [50415990.  ,    10000.  ,    10000.  ,        6.  ,       31.42,     2185.64],\n",
       "       [46154151.  ,     1000.  ,    10000.  ,       16.55,      354.3 ,     3199.4 ],\n",
       "       [66055249.  ,    10000.  ,    10000.  ,        6.  ,      309.97,      301.9 ]])"
      ]
     },
     "execution_count": 308,
     "metadata": {},
     "output_type": "execute_result"
    }
   ],
   "source": [
    "loan_data_numeric"
   ]
  },
  {
   "cell_type": "markdown",
   "id": "79223095",
   "metadata": {},
   "source": [
    "#### Currency Exchange: Converting Dollars to Euros"
   ]
  },
  {
   "cell_type": "code",
   "execution_count": 311,
   "id": "c4503b7f",
   "metadata": {},
   "outputs": [
    {
     "data": {
      "text/plain": [
       "array([[ nan,  nan,  nan,  nan,  nan],\n",
       "       [1.21, 1.21, 1.11, 1.13, 0.  ],\n",
       "       [1.13, 1.15, 1.12, 1.12, 0.  ],\n",
       "       [1.12, 1.12, 1.05, 1.08, 0.  ],\n",
       "       [1.07, 1.12, 1.05, 1.11, 0.  ],\n",
       "       [1.12, 1.15, 1.08, 1.1 , 0.  ],\n",
       "       [1.1 , 1.14, 1.09, 1.12, 0.  ],\n",
       "       [1.11, 1.12, 1.08, 1.09, 0.  ],\n",
       "       [1.1 , 1.17, 1.09, 1.13, 0.  ],\n",
       "       [1.12, 1.15, 1.11, 1.13, 0.  ],\n",
       "       [1.12, 1.15, 1.09, 1.1 , 0.  ],\n",
       "       [1.1 , 1.11, 1.06, 1.06, 0.  ],\n",
       "       [1.06, 1.11, 1.05, 1.09, 0.  ]])"
      ]
     },
     "execution_count": 311,
     "metadata": {},
     "output_type": "execute_result"
    }
   ],
   "source": [
    "import os\n",
    "os.chdir(\"C:/Users/Muskan/Downloads/EUR-USD Exchange Rate 2015\")\n",
    "EUR_USD=np.genfromtxt(\"EUR-USD.csv\",delimiter=',',autostrip=True)\n",
    "EUR_USD\n",
    "#the EUR-USD csv file contains monthly exchange rates "
   ]
  },
  {
   "cell_type": "code",
   "execution_count": 323,
   "id": "887f3ff5",
   "metadata": {},
   "outputs": [
    {
     "data": {
      "text/plain": [
       "array([[ nan,  nan,  nan,  nan,  nan],\n",
       "       [1.21, 1.21, 1.11, 1.13, 0.  ],\n",
       "       [1.13, 1.15, 1.12, 1.12, 0.  ],\n",
       "       [1.12, 1.12, 1.05, 1.08, 0.  ],\n",
       "       [1.07, 1.12, 1.05, 1.11, 0.  ],\n",
       "       [1.12, 1.15, 1.08, 1.1 , 0.  ],\n",
       "       [1.1 , 1.14, 1.09, 1.12, 0.  ],\n",
       "       [1.11, 1.12, 1.08, 1.09, 0.  ],\n",
       "       [1.1 , 1.17, 1.09, 1.13, 0.  ],\n",
       "       [1.12, 1.15, 1.11, 1.13, 0.  ],\n",
       "       [1.12, 1.15, 1.09, 1.1 , 0.  ],\n",
       "       [1.1 , 1.11, 1.06, 1.06, 0.  ],\n",
       "       [1.06, 1.11, 1.05, 1.09, 0.  ]])"
      ]
     },
     "execution_count": 323,
     "metadata": {},
     "output_type": "execute_result"
    }
   ],
   "source": [
    "#the first row contains nans so toview column names, change dtype to string\n",
    "EUR_USD=np.genfromtxt(\"EUR-USD.csv\",delimiter=',',autostrip=True)\n",
    "EUR_USD"
   ]
  },
  {
   "cell_type": "code",
   "execution_count": 326,
   "id": "bbbb5b4d",
   "metadata": {},
   "outputs": [
    {
     "data": {
      "text/plain": [
       "array([1.13, 1.12, 1.08, 1.11, 1.1 , 1.12, 1.09, 1.13, 1.13, 1.1 , 1.06, 1.09])"
      ]
     },
     "execution_count": 326,
     "metadata": {},
     "output_type": "execute_result"
    }
   ],
   "source": [
    "#only the 4th column, 'close' is useful as it reflects the adjusted closing exchange rate for each month\n",
    "#importing just the 4th column(index no 3), close\n",
    "EUR_USD=np.genfromtxt(\"EUR-USD.csv\",delimiter=',',autostrip=True,skip_header=1,usecols=3)\n",
    "EUR_USD"
   ]
  },
  {
   "cell_type": "code",
   "execution_count": 327,
   "id": "cfb43bf7",
   "metadata": {},
   "outputs": [
    {
     "data": {
      "text/plain": [
       "array([ 5,  0,  9, ...,  6,  4, 12])"
      ]
     },
     "execution_count": 327,
     "metadata": {},
     "output_type": "execute_result"
    }
   ],
   "source": [
    "# the issue date column we created contains 0 for missing values and 1-12 intergers for months \n",
    "loan_data_strings[:,0]"
   ]
  },
  {
   "cell_type": "code",
   "execution_count": 328,
   "id": "f71ee377",
   "metadata": {},
   "outputs": [
    {
     "data": {
      "text/plain": [
       "array([1.1 , 1.11, 1.13, ..., 1.12, 1.11, 1.09])"
      ]
     },
     "execution_count": 328,
     "metadata": {},
     "output_type": "execute_result"
    }
   ],
   "source": [
    "exchange_rate=loan_data_strings[:,0]\n",
    "'''\n",
    "To convert each $ value in loan_data_string to € value, we can assign all values of ex January\n",
    "in EUR_USD to 1(coded for january) in exchange_rate array \n",
    "the EUR_USD array has index 0 for January so use i-1\n",
    "'''\n",
    "for i in range(1,13):\n",
    "    exchange_rate=np.where(exchange_rate==i,\n",
    "                          EUR_USD[i-1],\n",
    "                          exchange_rate)\n",
    "\n",
    "#the missing values can be replaced by the mean of all values in EUR_USD \n",
    "\n",
    "exchange_rate=np.where(exchange_rate==0,\n",
    "                      np.mean(EUR_USD),\n",
    "                      exchange_rate)\n",
    "exchange_rate"
   ]
  },
  {
   "cell_type": "code",
   "execution_count": 329,
   "id": "08b1393a",
   "metadata": {},
   "outputs": [
    {
     "data": {
      "text/plain": [
       "(10000,)"
      ]
     },
     "execution_count": 329,
     "metadata": {},
     "output_type": "execute_result"
    }
   ],
   "source": [
    "exchange_rate.shape"
   ]
  },
  {
   "cell_type": "code",
   "execution_count": 330,
   "id": "cfff4fe0",
   "metadata": {},
   "outputs": [
    {
     "data": {
      "text/plain": [
       "(10000, 6)"
      ]
     },
     "execution_count": 330,
     "metadata": {},
     "output_type": "execute_result"
    }
   ],
   "source": [
    "loan_data_numeric.shape"
   ]
  },
  {
   "cell_type": "code",
   "execution_count": 331,
   "id": "1e4c0404",
   "metadata": {},
   "outputs": [],
   "source": [
    "#the exchange_rate array is one-dimensional whereas loan_data_numeric is 2D\n",
    "#we need to reshape exchange_rate array to 2D\n",
    "exchange_rate=np.reshape(exchange_rate,(10000,1))"
   ]
  },
  {
   "cell_type": "code",
   "execution_count": 333,
   "id": "3ad9426b",
   "metadata": {},
   "outputs": [],
   "source": [
    "#now that exchange_rate is 2D we can add it as a column in loan_data_numeric by using np.hstack\n",
    "loan_data_numeric=np.hstack((loan_data_numeric,exchange_rate))\n",
    "#the exchange_rate column would be added as the last column"
   ]
  },
  {
   "cell_type": "code",
   "execution_count": 336,
   "id": "6555bc0f",
   "metadata": {},
   "outputs": [
    {
     "data": {
      "text/plain": [
       "array(['id', 'loan_amnt', 'funded_amnt', 'int_rate', 'installment', 'total_pymnt',\n",
       "       'exchange_rate_$_€'], dtype='<U19')"
      ]
     },
     "execution_count": 336,
     "metadata": {},
     "output_type": "execute_result"
    }
   ],
   "source": [
    "#adding the column to header_numeric as an array as header_numeric is an array\n",
    "header_numeric=np.concatenate((header_numeric,np.array(['exchange_rate_$_€'])))\n",
    "header_numeric"
   ]
  },
  {
   "cell_type": "markdown",
   "id": "105f4fd7",
   "metadata": {},
   "source": [
    "#### USD TO EUR"
   ]
  },
  {
   "cell_type": "code",
   "execution_count": 337,
   "id": "3a2f75e7",
   "metadata": {},
   "outputs": [
    {
     "data": {
      "text/plain": [
       "array(['id', 'loan_amnt', 'funded_amnt', 'int_rate', 'installment', 'total_pymnt',\n",
       "       'exchange_rate_$_€'], dtype='<U19')"
      ]
     },
     "execution_count": 337,
     "metadata": {},
     "output_type": "execute_result"
    }
   ],
   "source": [
    "header_numeric"
   ]
  },
  {
   "cell_type": "code",
   "execution_count": 338,
   "id": "e4aba9f0",
   "metadata": {},
   "outputs": [],
   "source": [
    "#the ID and interest rate columns do not need to be converted only the following\n",
    "columns_dollar=np.array([1,2,4,5])"
   ]
  },
  {
   "cell_type": "code",
   "execution_count": 340,
   "id": "09fdd6ac",
   "metadata": {},
   "outputs": [
    {
     "data": {
      "text/plain": [
       "array([1.1 , 1.11, 1.13, ..., 1.12, 1.11, 1.09])"
      ]
     },
     "execution_count": 340,
     "metadata": {},
     "output_type": "execute_result"
    }
   ],
   "source": [
    "#subsetting the exchange_rate column\n",
    "loan_data_numeric[:,6]"
   ]
  },
  {
   "cell_type": "code",
   "execution_count": 343,
   "id": "00b2006e",
   "metadata": {},
   "outputs": [],
   "source": [
    "for i in columns_dollar:\n",
    "    loan_data_numeric=np.hstack((loan_data_numeric,\n",
    "                        np.reshape(loan_data_numeric[:,i]/loan_data_numeric[:,6],(10000,1))))\n",
    "\n",
    "                                #reshaping the exchange rate columns as they have to be array values\n",
    "#to convert from usd to eur we have to divide column values by the exchange rate column \n",
    "#values which column index 6"
   ]
  },
  {
   "cell_type": "code",
   "execution_count": 344,
   "id": "bc6403d7",
   "metadata": {},
   "outputs": [
    {
     "data": {
      "text/plain": [
       "(10000, 11)"
      ]
     },
     "execution_count": 344,
     "metadata": {},
     "output_type": "execute_result"
    }
   ],
   "source": [
    "# 4 more columns were added to loan_data_numeric, containing the euro values to their $ counterpart\n",
    "loan_data_numeric.shape"
   ]
  },
  {
   "cell_type": "markdown",
   "id": "19fb6383",
   "metadata": {},
   "source": [
    "#### Adding the new column names to header_numeric"
   ]
  },
  {
   "cell_type": "code",
   "execution_count": 345,
   "id": "60a3df6c",
   "metadata": {},
   "outputs": [],
   "source": [
    "#creating an array of new column headers\n",
    "header_additional=np.array([column_name+'_EUR' for column_name in header_numeric[columns_dollar]])"
   ]
  },
  {
   "cell_type": "code",
   "execution_count": 346,
   "id": "6f9ecb70",
   "metadata": {},
   "outputs": [],
   "source": [
    "header_numeric=np.concatenate((header_numeric,header_additional))"
   ]
  },
  {
   "cell_type": "code",
   "execution_count": 347,
   "id": "b558d0db",
   "metadata": {},
   "outputs": [
    {
     "data": {
      "text/plain": [
       "array(['id', 'loan_amnt', 'funded_amnt', 'int_rate', 'installment', 'total_pymnt',\n",
       "       'exchange_rate_$_€', 'loan_amnt_EUR', 'funded_amnt_EUR', 'installment_EUR',\n",
       "       'total_pymnt_EUR'], dtype='<U19')"
      ]
     },
     "execution_count": 347,
     "metadata": {},
     "output_type": "execute_result"
    }
   ],
   "source": [
    "header_numeric"
   ]
  },
  {
   "cell_type": "code",
   "execution_count": 348,
   "id": "f1abe355",
   "metadata": {},
   "outputs": [],
   "source": [
    "#indicating USD columns clearly\n",
    "header_numeric[columns_dollar]=np.array([column_name+'_USD' for column_name in header_numeric[columns_dollar]])"
   ]
  },
  {
   "cell_type": "code",
   "execution_count": 349,
   "id": "9c6bc330",
   "metadata": {},
   "outputs": [
    {
     "data": {
      "text/plain": [
       "array(['id', 'loan_amnt_USD', 'funded_amnt_USD', 'int_rate', 'installment_USD', 'total_pymnt_USD',\n",
       "       'exchange_rate_$_€', 'loan_amnt_EUR', 'funded_amnt_EUR', 'installment_EUR',\n",
       "       'total_pymnt_EUR'], dtype='<U19')"
      ]
     },
     "execution_count": 349,
     "metadata": {},
     "output_type": "execute_result"
    }
   ],
   "source": [
    "header_numeric"
   ]
  },
  {
   "cell_type": "code",
   "execution_count": 350,
   "id": "99481691",
   "metadata": {},
   "outputs": [],
   "source": [
    "#we can re_arrange USD and Eur columns to be next to each other\n",
    "#we can create a list of column indices that need to be next to each other\n",
    "columns_index_order=[0,1,7,2,8,3,4,9,5,10,6]"
   ]
  },
  {
   "cell_type": "code",
   "execution_count": 351,
   "id": "dc58b0e5",
   "metadata": {},
   "outputs": [
    {
     "data": {
      "text/plain": [
       "array(['id', 'loan_amnt_USD', 'loan_amnt_EUR', 'funded_amnt_USD', 'funded_amnt_EUR', 'int_rate',\n",
       "       'installment_USD', 'installment_EUR', 'total_pymnt_USD', 'total_pymnt_EUR',\n",
       "       'exchange_rate_$_€'], dtype='<U19')"
      ]
     },
     "execution_count": 351,
     "metadata": {},
     "output_type": "execute_result"
    }
   ],
   "source": [
    "#the desired order\n",
    "header_numeric[columns_index_order]"
   ]
  },
  {
   "cell_type": "code",
   "execution_count": 352,
   "id": "6fd4773f",
   "metadata": {},
   "outputs": [],
   "source": [
    "header_numeric=header_numeric[columns_index_order]"
   ]
  },
  {
   "cell_type": "code",
   "execution_count": 353,
   "id": "a22de4f5",
   "metadata": {},
   "outputs": [
    {
     "data": {
      "text/plain": [
       "array([[48010226.  ,    35000.  ,    35000.  , ...,    31933.3 ,     1081.04,     8624.69],\n",
       "       [57693261.  ,    30000.  ,    30000.  , ...,    27132.46,      848.86,     4232.39],\n",
       "       [59432726.  ,    15000.  ,    15000.  , ...,    13326.3 ,      439.64,     1750.04],\n",
       "       ...,\n",
       "       [50415990.  ,    10000.  ,    10000.  , ...,     8910.3 ,       28.  ,     1947.47],\n",
       "       [46154151.  ,     1000.  ,    10000.  , ...,     8997.4 ,      318.78,     2878.63],\n",
       "       [66055249.  ,    10000.  ,    10000.  , ...,     9145.8 ,      283.49,      276.11]])"
      ]
     },
     "execution_count": 353,
     "metadata": {},
     "output_type": "execute_result"
    }
   ],
   "source": [
    "loan_data_numeric"
   ]
  },
  {
   "cell_type": "code",
   "execution_count": 354,
   "id": "c023541c",
   "metadata": {},
   "outputs": [],
   "source": [
    "#we need to arrange the loan_data_numeric values in the same order\n",
    "loan_data_numeric=loan_data_numeric[:,columns_index_order]"
   ]
  },
  {
   "cell_type": "markdown",
   "id": "6a4bd033",
   "metadata": {},
   "source": [
    "#### Interest Rate Column"
   ]
  },
  {
   "cell_type": "code",
   "execution_count": 355,
   "id": "ea7912ef",
   "metadata": {},
   "outputs": [
    {
     "data": {
      "text/plain": [
       "array(['id', 'loan_amnt_USD', 'loan_amnt_EUR', 'funded_amnt_USD', 'funded_amnt_EUR', 'int_rate',\n",
       "       'installment_USD', 'installment_EUR', 'total_pymnt_USD', 'total_pymnt_EUR',\n",
       "       'exchange_rate_$_€'], dtype='<U19')"
      ]
     },
     "execution_count": 355,
     "metadata": {},
     "output_type": "execute_result"
    }
   ],
   "source": [
    "header_numeric"
   ]
  },
  {
   "cell_type": "code",
   "execution_count": 356,
   "id": "4e54091a",
   "metadata": {},
   "outputs": [
    {
     "data": {
      "text/plain": [
       "array([13.33,  6.  ,  6.  , ...,  6.  , 16.55,  6.  ])"
      ]
     },
     "execution_count": 356,
     "metadata": {},
     "output_type": "execute_result"
    }
   ],
   "source": [
    "loan_data_numeric[:,5]"
   ]
  },
  {
   "cell_type": "code",
   "execution_count": 357,
   "id": "6d42a83a",
   "metadata": {},
   "outputs": [],
   "source": [
    "#the conventional values of interest rates are b/w 0 to 1. so lets divide each value by 100\n",
    "loan_data_numeric[:,5]=loan_data_numeric[:,5]/100"
   ]
  },
  {
   "cell_type": "code",
   "execution_count": 358,
   "id": "06c322aa",
   "metadata": {},
   "outputs": [
    {
     "data": {
      "text/plain": [
       "array([0.13, 0.06, 0.06, ..., 0.06, 0.17, 0.06])"
      ]
     },
     "execution_count": 358,
     "metadata": {},
     "output_type": "execute_result"
    }
   ],
   "source": [
    "loan_data_numeric[:,5]"
   ]
  },
  {
   "cell_type": "markdown",
   "id": "894452e7",
   "metadata": {},
   "source": [
    "#### Checkpoint #2: Numeric"
   ]
  },
  {
   "cell_type": "code",
   "execution_count": 359,
   "id": "cb7d5347",
   "metadata": {},
   "outputs": [],
   "source": [
    "checkpoint_numeric=checkpoint(\"Checkpoint-Numeric\",header_numeric,loan_data_numeric)"
   ]
  },
  {
   "cell_type": "code",
   "execution_count": 361,
   "id": "2cd01bc0",
   "metadata": {},
   "outputs": [
    {
     "data": {
      "text/plain": [
       "(array(['id', 'loan_amnt_USD', 'loan_amnt_EUR', 'funded_amnt_USD', 'funded_amnt_EUR', 'int_rate',\n",
       "        'installment_USD', 'installment_EUR', 'total_pymnt_USD', 'total_pymnt_EUR',\n",
       "        'exchange_rate_$_€'], dtype='<U19'),\n",
       " array([[48010226.  ,    35000.  ,    31933.3 , ...,     9452.96,     8624.69,        1.1 ],\n",
       "        [57693261.  ,    30000.  ,    27132.46, ...,     4679.7 ,     4232.39,        1.11],\n",
       "        [59432726.  ,    15000.  ,    13326.3 , ...,     1969.83,     1750.04,        1.13],\n",
       "        ...,\n",
       "        [50415990.  ,    10000.  ,     8910.3 , ...,     2185.64,     1947.47,        1.12],\n",
       "        [46154151.  ,     1000.  ,      899.74, ...,     3199.4 ,     2878.63,        1.11],\n",
       "        [66055249.  ,    10000.  ,     9145.8 , ...,      301.9 ,      276.11,        1.09]]))"
      ]
     },
     "execution_count": 361,
     "metadata": {},
     "output_type": "execute_result"
    }
   ],
   "source": [
    "checkpoint_numeric['header'],checkpoint_numeric['data']"
   ]
  },
  {
   "cell_type": "markdown",
   "id": "671ae89d",
   "metadata": {},
   "source": [
    "## Creating the complete Dataset with both String and Numeric Arrays"
   ]
  },
  {
   "cell_type": "code",
   "execution_count": 362,
   "id": "e1ec0755",
   "metadata": {},
   "outputs": [
    {
     "data": {
      "text/plain": [
       "(10000, 6)"
      ]
     },
     "execution_count": 362,
     "metadata": {},
     "output_type": "execute_result"
    }
   ],
   "source": [
    "#cross checking if the dimesions of the string and numeric arrays to stack them together\n",
    "checkpoint_strings['data'].shape"
   ]
  },
  {
   "cell_type": "code",
   "execution_count": 363,
   "id": "e1f43b5c",
   "metadata": {},
   "outputs": [
    {
     "data": {
      "text/plain": [
       "(10000, 11)"
      ]
     },
     "execution_count": 363,
     "metadata": {},
     "output_type": "execute_result"
    }
   ],
   "source": [
    "checkpoint_numeric['data'].shape"
   ]
  },
  {
   "cell_type": "code",
   "execution_count": 365,
   "id": "60351971",
   "metadata": {},
   "outputs": [],
   "source": [
    "#both the arrays have same no of rows so we can stack them side by side\n",
    "#will keep numeric array on the left as it has IDs of loans\n",
    "loan_data=np.hstack((checkpoint_numeric['data'],checkpoint_strings['data']))"
   ]
  },
  {
   "cell_type": "code",
   "execution_count": 366,
   "id": "1ea8c422",
   "metadata": {},
   "outputs": [
    {
     "data": {
      "text/plain": [
       "array([[48010226.  ,    35000.  ,    31933.3 , ...,       13.  ,        1.  ,        1.  ],\n",
       "       [57693261.  ,    30000.  ,    27132.46, ...,        5.  ,        1.  ,        4.  ],\n",
       "       [59432726.  ,    15000.  ,    13326.3 , ...,       10.  ,        1.  ,        4.  ],\n",
       "       ...,\n",
       "       [50415990.  ,    10000.  ,     8910.3 , ...,        5.  ,        1.  ,        1.  ],\n",
       "       [46154151.  ,     1000.  ,      899.74, ...,       17.  ,        1.  ,        3.  ],\n",
       "       [66055249.  ,    10000.  ,     9145.8 , ...,        4.  ,        0.  ,        3.  ]])"
      ]
     },
     "execution_count": 366,
     "metadata": {},
     "output_type": "execute_result"
    }
   ],
   "source": [
    "loan_data"
   ]
  },
  {
   "cell_type": "code",
   "execution_count": 367,
   "id": "0bbfa610",
   "metadata": {},
   "outputs": [
    {
     "data": {
      "text/plain": [
       "0"
      ]
     },
     "execution_count": 367,
     "metadata": {},
     "output_type": "execute_result"
    }
   ],
   "source": [
    "#checking if the dataset has any null values\n",
    "np.isnan(loan_data).sum()"
   ]
  },
  {
   "cell_type": "code",
   "execution_count": 368,
   "id": "5d5a5048",
   "metadata": {},
   "outputs": [],
   "source": [
    "#getting all the column headers together\n",
    "header_full=np.concatenate((checkpoint_numeric['header'],checkpoint_strings['header']))"
   ]
  },
  {
   "cell_type": "code",
   "execution_count": 369,
   "id": "42b30b3e",
   "metadata": {},
   "outputs": [
    {
     "data": {
      "text/plain": [
       "array(['id', 'loan_amnt_USD', 'loan_amnt_EUR', 'funded_amnt_USD', 'funded_amnt_EUR', 'int_rate',\n",
       "       'installment_USD', 'installment_EUR', 'total_pymnt_USD', 'total_pymnt_EUR',\n",
       "       'exchange_rate_$_€', 'issue_date', 'loan_status', 'term_months', 'sub_grade',\n",
       "       'verification_status', 'state_address'], dtype='<U19')"
      ]
     },
     "execution_count": 369,
     "metadata": {},
     "output_type": "execute_result"
    }
   ],
   "source": [
    "header_full"
   ]
  },
  {
   "cell_type": "markdown",
   "id": "6578b90f",
   "metadata": {},
   "source": [
    "#### Sorting the dataset as per the smallest to largest IDs"
   ]
  },
  {
   "cell_type": "code",
   "execution_count": 371,
   "id": "2aadb095",
   "metadata": {},
   "outputs": [
    {
     "data": {
      "text/plain": [
       "(373332.0, 68616519.0)"
      ]
     },
     "execution_count": 371,
     "metadata": {},
     "output_type": "execute_result"
    }
   ],
   "source": [
    "min(loan_data[:,0]),max(loan_data[:,0])"
   ]
  },
  {
   "cell_type": "code",
   "execution_count": 372,
   "id": "4e12f42e",
   "metadata": {},
   "outputs": [],
   "source": [
    "loan_data=loan_data[np.argsort(loan_data[:,0])]"
   ]
  },
  {
   "cell_type": "code",
   "execution_count": 373,
   "id": "7f7891ee",
   "metadata": {},
   "outputs": [
    {
     "data": {
      "text/plain": [
       "array([[  373332.  ,     9950.  ,     9038.08, ...,       21.  ,        0.  ,        1.  ],\n",
       "       [  575239.  ,    12000.  ,    10900.2 , ...,       25.  ,        1.  ,        2.  ],\n",
       "       [  707689.  ,    10000.  ,     8924.3 , ...,       13.  ,        1.  ,        0.  ],\n",
       "       ...,\n",
       "       [68614880.  ,     5600.  ,     5121.65, ...,        8.  ,        1.  ,        1.  ],\n",
       "       [68615915.  ,     4000.  ,     3658.32, ...,       10.  ,        1.  ,        2.  ],\n",
       "       [68616519.  ,    21600.  ,    19754.93, ...,        3.  ,        0.  ,        2.  ]])"
      ]
     },
     "execution_count": 373,
     "metadata": {},
     "output_type": "execute_result"
    }
   ],
   "source": [
    "loan_data"
   ]
  },
  {
   "cell_type": "code",
   "execution_count": 374,
   "id": "74f6624c",
   "metadata": {},
   "outputs": [
    {
     "data": {
      "text/plain": [
       "array([   0,    1,    2, ..., 9997, 9998, 9999], dtype=int64)"
      ]
     },
     "execution_count": 374,
     "metadata": {},
     "output_type": "execute_result"
    }
   ],
   "source": [
    "np.argsort(loan_data[:,0])"
   ]
  },
  {
   "cell_type": "markdown",
   "id": "1c3dd58a",
   "metadata": {},
   "source": [
    "#### Storing the new dataset "
   ]
  },
  {
   "cell_type": "code",
   "execution_count": 376,
   "id": "13ba1f7c",
   "metadata": {},
   "outputs": [],
   "source": [
    "loan_data=np.vstack((header_full,loan_data))\n",
    "#stacking the column headers at top"
   ]
  },
  {
   "cell_type": "code",
   "execution_count": 378,
   "id": "a1af53c9",
   "metadata": {},
   "outputs": [],
   "source": [
    "#saving the dataset as a csv file\n",
    "np.savetxt(\"loan-data-preprocessed.csv\",loan_data,\n",
    "           fmt=\"%s\",\n",
    "          delimiter=',')"
   ]
  },
  {
   "cell_type": "code",
   "execution_count": null,
   "id": "47629e11",
   "metadata": {},
   "outputs": [],
   "source": []
  }
 ],
 "metadata": {
  "kernelspec": {
   "display_name": "Python 3",
   "language": "python",
   "name": "python3"
  },
  "language_info": {
   "codemirror_mode": {
    "name": "ipython",
    "version": 3
   },
   "file_extension": ".py",
   "mimetype": "text/x-python",
   "name": "python",
   "nbconvert_exporter": "python",
   "pygments_lexer": "ipython3",
   "version": "3.8.3"
  }
 },
 "nbformat": 4,
 "nbformat_minor": 5
}
